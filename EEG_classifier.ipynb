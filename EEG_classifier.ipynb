{
 "cells": [
  {
   "cell_type": "code",
   "execution_count": 1,
   "id": "ac67f0fb",
   "metadata": {},
   "outputs": [
    {
     "name": "stdout",
     "output_type": "stream",
     "text": [
      "Init Plugin\n",
      "Init Graph Optimizer\n",
      "Init Kernel\n",
      "Tensor Flow Version: 2.5.0\n",
      "Keras Version: 2.5.0\n",
      "\n",
      "Python 3.9.7 (default, Sep 16 2021, 23:53:23) \n",
      "[Clang 12.0.0 ]\n",
      "Pandas 1.3.5\n",
      "Scikit-Learn 1.0.2\n",
      "GPU is available\n"
     ]
    }
   ],
   "source": [
    "# What version of Python do you have?\n",
    "import sys\n",
    "\n",
    "import tensorflow.keras\n",
    "import pandas as pd\n",
    "import sklearn as sk\n",
    "import tensorflow as tf\n",
    "\n",
    "print(f\"Tensor Flow Version: {tf.__version__}\")\n",
    "print(f\"Keras Version: {tensorflow.keras.__version__}\")\n",
    "print()\n",
    "print(f\"Python {sys.version}\")\n",
    "print(f\"Pandas {pd.__version__}\")\n",
    "print(f\"Scikit-Learn {sk.__version__}\")\n",
    "gpu = len(tf.config.list_physical_devices('GPU'))>0\n",
    "print(\"GPU is\", \"available\" if gpu else \"NOT AVAILABLE\")"
   ]
  },
  {
   "cell_type": "code",
   "execution_count": 2,
   "id": "312f6de6-0c60-4104-bd5e-0ce23f2611c9",
   "metadata": {},
   "outputs": [],
   "source": [
    "import pyarrow.feather as feather\n",
    "import matplotlib.pyplot as plt\n",
    "import numpy as np"
   ]
  },
  {
   "cell_type": "code",
   "execution_count": 3,
   "id": "69aafc53-480f-4489-9b65-dd8bcd42fb70",
   "metadata": {},
   "outputs": [],
   "source": [
    "# loading in the training data\n",
    "path = '/Users/asgnxt/mne-miniconda/mne_data/train_val_16/train_16/eyesclosed_train.feather'\n",
    "df_closed = feather.read_feather(path)\n",
    "path = '/Users/asgnxt/mne-miniconda/mne_data/train_val_16/train_16/eyesopen_train.feather'\n",
    "df_open = feather.read_feather(path)\n",
    "path = '/Users/asgnxt/mne-miniconda/mne_data/train_val_16/train_16/mathematic_train.feather'\n",
    "df_math = feather.read_feather(path)\n",
    "path = '/Users/asgnxt/mne-miniconda/mne_data/train_val_16/train_16/memory_train.feather'\n",
    "df_memory = feather.read_feather(path)\n",
    "path = '/Users/asgnxt/mne-miniconda/mne_data/train_val_16/train_16/music_train.feather'\n",
    "df_music = feather.read_feather(path)"
   ]
  },
  {
   "cell_type": "code",
   "execution_count": 4,
   "id": "4243ce0d",
   "metadata": {},
   "outputs": [
    {
     "name": "stdout",
     "output_type": "stream",
     "text": [
      "0       -3.576279e-07\n",
      "1        4.172325e-07\n",
      "2        1.192093e-07\n",
      "3       -7.152557e-07\n",
      "4       -8.344650e-07\n",
      "             ...     \n",
      "29994    8.940697e-07\n",
      "29995    7.152557e-07\n",
      "29996    3.576279e-07\n",
      "29997    5.960464e-07\n",
      "29998   -1.192093e-07\n",
      "Length: 29999, dtype: float16\n",
      "0        0.0\n",
      "1        0.0\n",
      "2        0.0\n",
      "3        0.0\n",
      "4        0.0\n",
      "        ... \n",
      "29994    0.0\n",
      "29995    0.0\n",
      "29996    0.0\n",
      "29997    0.0\n",
      "29998    0.0\n",
      "Length: 29999, dtype: float16\n"
     ]
    }
   ],
   "source": [
    "# is data normalized?\n",
    "print(df_closed.iloc[:, :-1].mean())\n",
    "print(df_closed.iloc[:, :-1].std())"
   ]
  },
  {
   "cell_type": "markdown",
   "id": "e8703357",
   "metadata": {},
   "source": [
    "Apparently mean and sd of df_closed are 0 at this precision level!"
   ]
  },
  {
   "cell_type": "code",
   "execution_count": 5,
   "id": "24406b8a",
   "metadata": {},
   "outputs": [],
   "source": [
    "# loading in the validation data\n",
    "path = '/Users/asgnxt/mne-miniconda/mne_data/train_val_16/val_16/eyesclosed_val.feather'\n",
    "df_closed_val = feather.read_feather(path)\n",
    "path = '/Users/asgnxt/mne-miniconda/mne_data/train_val_16/val_16/eyesopen_val.feather'\n",
    "df_open_val = feather.read_feather(path)\n",
    "path = '/Users/asgnxt/mne-miniconda/mne_data/train_val_16/val_16/mathematic_val.feather'\n",
    "df_math_val = feather.read_feather(path)\n",
    "path = '/Users/asgnxt/mne-miniconda/mne_data/train_val_16/val_16/memory_val.feather'\n",
    "df_memory_val = feather.read_feather(path)\n",
    "path = '/Users/asgnxt/mne-miniconda/mne_data/train_val_16/val_16/music_val.feather'\n",
    "df_music_val = feather.read_feather(path)\n"
   ]
  },
  {
   "cell_type": "code",
   "execution_count": 6,
   "id": "2b8beab5-2ff3-4f10-873a-9436e8e466da",
   "metadata": {},
   "outputs": [
    {
     "name": "stdout",
     "output_type": "stream",
     "text": [
      "(7076, 30000)\n",
      "(7076, 30000)\n",
      "(7259, 30000)\n",
      "(7259, 30000)\n",
      "(7076, 30000)\n",
      "(854, 30000)\n",
      "(854, 30000)\n",
      "(854, 30000)\n",
      "(854, 30000)\n",
      "(915, 30000)\n"
     ]
    }
   ],
   "source": [
    "# determine the number of samples in each dataframe\n",
    "print(df_closed.shape)\n",
    "print(df_open.shape)\n",
    "print(df_math.shape)\n",
    "print(df_memory.shape)\n",
    "print(df_music.shape)\n",
    "print(df_closed_val.shape)\n",
    "print(df_open_val.shape)\n",
    "print(df_math_val.shape)\n",
    "print(df_memory_val.shape)\n",
    "print(df_music_val.shape)"
   ]
  },
  {
   "cell_type": "markdown",
   "id": "c6583e80",
   "metadata": {},
   "source": [
    "The training data is either 7076 or 7259 rows x 30000 columns. Given there are 61 channels of EEG, there are 7076 / 61 = 116 / 119 distinct recordings of 300 sec each (100 Hz sampling).\n",
    "\n",
    "Imagining an EEG 'frame' of 61 x 61 (61 channels x 610 ms); each row can be thought of as a movie with ~492 frames. Each activity has a training set of 492 x 116 or 492 x 119 frames of data from a subset of subjects and sessions"
   ]
  },
  {
   "cell_type": "code",
   "execution_count": 28,
   "id": "86b40262",
   "metadata": {},
   "outputs": [
    {
     "name": "stdout",
     "output_type": "stream",
     "text": [
      "285245.9016393443\n",
      "6885.245901639344\n"
     ]
    }
   ],
   "source": [
    "print((30000/61)*116*5) # number of training epochs\n",
    "print((854/61)*(30000/61)) # number of validation epochs"
   ]
  },
  {
   "cell_type": "code",
   "execution_count": 46,
   "id": "33af3964",
   "metadata": {},
   "outputs": [
    {
     "name": "stdout",
     "output_type": "stream",
     "text": [
      "Number of channels: 61\n",
      "Number of samples: 30000\n",
      "image_size = 61 x 61\n",
      "Number of images per row: 491.8032786885246\n",
      "Number of classes: 5\n",
      "num_training_epochs = 285246\n"
     ]
    }
   ],
   "source": [
    "# defining parameters for the model\n",
    "\n",
    "batch_size = 32\n",
    "\n",
    "img_width = 61 \n",
    "\n",
    "img_height = 61\n",
    "\n",
    "num_channels = 61\n",
    "print(f'Number of channels: {num_channels}')\n",
    "# defining the number of samples\n",
    "\n",
    "num_samples = 30000\n",
    "print(f'Number of samples: {num_samples}')\n",
    "\n",
    "# defining the number of frames\n",
    "num_frames = num_samples/num_channels\n",
    "print(f'image_size = 61 x 61')\n",
    "print(f'Number of images per row: {num_frames}')\n",
    "\n",
    "# defining the number of classes\n",
    "num_classes = 5\n",
    "print(f'Number of classes: {num_classes}')\n",
    "\n",
    "# defining the number of epochs\n",
    "num_training_epochs = num_frames * 116 * num_classes\n",
    "print(f'num_training_epochs = {num_training_epochs.__round__()}')"
   ]
  },
  {
   "cell_type": "code",
   "execution_count": 79,
   "id": "b6492dab",
   "metadata": {},
   "outputs": [],
   "source": [
    "# create labels for each dataframe with float16 precision\n",
    "df_closed['label'] = 0\n",
    "df_open['label'] = 1\n",
    "df_math['label'] = 2\n",
    "df_memory['label'] = 3\n",
    "df_music['label'] = 4\n",
    "df_closed_val['label'] = 0\n",
    "df_open_val['label'] = 1\n",
    "df_math_val['label'] = 2\n",
    "df_memory_val['label'] = 3\n",
    "df_music_val['label'] = 4"
   ]
  },
  {
   "cell_type": "code",
   "execution_count": 80,
   "id": "9a6eb74f",
   "metadata": {},
   "outputs": [],
   "source": [
    "# force the labels to be float16 precision\n",
    "df_closed['label'] = df_closed['label'].astype('float16')\n",
    "df_open['label'] = df_open['label'].astype('float16')\n",
    "df_math['label'] = df_math['label'].astype('float16')\n",
    "df_memory['label'] = df_memory['label'].astype('float16')\n",
    "df_music['label'] = df_music['label'].astype('float16')\n",
    "df_closed_val['label'] = df_closed_val['label'].astype('float16')\n",
    "df_open_val['label'] = df_open_val['label'].astype('float16')\n",
    "df_math_val['label'] = df_math_val['label'].astype('float16')\n",
    "df_memory_val['label'] = df_memory_val['label'].astype('float16')\n",
    "df_music_val['label'] = df_music_val['label'].astype('float16')\n"
   ]
  },
  {
   "cell_type": "code",
   "execution_count": 70,
   "id": "2d37c008",
   "metadata": {},
   "outputs": [
    {
     "data": {
      "text/html": [
       "<div>\n",
       "<style scoped>\n",
       "    .dataframe tbody tr th:only-of-type {\n",
       "        vertical-align: middle;\n",
       "    }\n",
       "\n",
       "    .dataframe tbody tr th {\n",
       "        vertical-align: top;\n",
       "    }\n",
       "\n",
       "    .dataframe thead th {\n",
       "        text-align: right;\n",
       "    }\n",
       "</style>\n",
       "<table border=\"1\" class=\"dataframe\">\n",
       "  <thead>\n",
       "    <tr style=\"text-align: right;\">\n",
       "      <th></th>\n",
       "      <th>0</th>\n",
       "      <th>1</th>\n",
       "      <th>2</th>\n",
       "      <th>3</th>\n",
       "      <th>4</th>\n",
       "      <th>5</th>\n",
       "      <th>6</th>\n",
       "      <th>7</th>\n",
       "      <th>8</th>\n",
       "      <th>9</th>\n",
       "      <th>...</th>\n",
       "      <th>29991</th>\n",
       "      <th>29992</th>\n",
       "      <th>29993</th>\n",
       "      <th>29994</th>\n",
       "      <th>29995</th>\n",
       "      <th>29996</th>\n",
       "      <th>29997</th>\n",
       "      <th>29998</th>\n",
       "      <th>29999</th>\n",
       "      <th>label</th>\n",
       "    </tr>\n",
       "  </thead>\n",
       "  <tbody>\n",
       "    <tr>\n",
       "      <th>0</th>\n",
       "      <td>0.000016</td>\n",
       "      <td>-0.000020</td>\n",
       "      <td>-0.000028</td>\n",
       "      <td>-1.597404e-05</td>\n",
       "      <td>-0.000034</td>\n",
       "      <td>-0.000023</td>\n",
       "      <td>0.000020</td>\n",
       "      <td>-0.000002</td>\n",
       "      <td>-0.000022</td>\n",
       "      <td>-0.000002</td>\n",
       "      <td>...</td>\n",
       "      <td>-0.000013</td>\n",
       "      <td>-0.000018</td>\n",
       "      <td>-0.000004</td>\n",
       "      <td>0.000004</td>\n",
       "      <td>-0.000030</td>\n",
       "      <td>-0.000042</td>\n",
       "      <td>-0.000022</td>\n",
       "      <td>-0.000013</td>\n",
       "      <td>-0.000017</td>\n",
       "      <td>4.0</td>\n",
       "    </tr>\n",
       "    <tr>\n",
       "      <th>1</th>\n",
       "      <td>0.000024</td>\n",
       "      <td>-0.000027</td>\n",
       "      <td>-0.000015</td>\n",
       "      <td>-1.591444e-05</td>\n",
       "      <td>-0.000019</td>\n",
       "      <td>-0.000021</td>\n",
       "      <td>-0.000019</td>\n",
       "      <td>-0.000005</td>\n",
       "      <td>-0.000025</td>\n",
       "      <td>-0.000028</td>\n",
       "      <td>...</td>\n",
       "      <td>-0.000017</td>\n",
       "      <td>-0.000015</td>\n",
       "      <td>-0.000007</td>\n",
       "      <td>-0.000007</td>\n",
       "      <td>-0.000029</td>\n",
       "      <td>-0.000032</td>\n",
       "      <td>-0.000027</td>\n",
       "      <td>-0.000018</td>\n",
       "      <td>-0.000022</td>\n",
       "      <td>4.0</td>\n",
       "    </tr>\n",
       "    <tr>\n",
       "      <th>2</th>\n",
       "      <td>-0.000011</td>\n",
       "      <td>0.000011</td>\n",
       "      <td>-0.000021</td>\n",
       "      <td>9.536743e-07</td>\n",
       "      <td>0.000023</td>\n",
       "      <td>0.000007</td>\n",
       "      <td>0.000030</td>\n",
       "      <td>0.000030</td>\n",
       "      <td>-0.000006</td>\n",
       "      <td>0.000004</td>\n",
       "      <td>...</td>\n",
       "      <td>-0.000003</td>\n",
       "      <td>-0.000002</td>\n",
       "      <td>0.000013</td>\n",
       "      <td>0.000015</td>\n",
       "      <td>-0.000009</td>\n",
       "      <td>-0.000023</td>\n",
       "      <td>-0.000005</td>\n",
       "      <td>-0.000002</td>\n",
       "      <td>-0.000011</td>\n",
       "      <td>4.0</td>\n",
       "    </tr>\n",
       "    <tr>\n",
       "      <th>3</th>\n",
       "      <td>0.000024</td>\n",
       "      <td>-0.000027</td>\n",
       "      <td>-0.000016</td>\n",
       "      <td>-1.943111e-05</td>\n",
       "      <td>-0.000023</td>\n",
       "      <td>-0.000017</td>\n",
       "      <td>-0.000016</td>\n",
       "      <td>-0.000007</td>\n",
       "      <td>-0.000014</td>\n",
       "      <td>-0.000015</td>\n",
       "      <td>...</td>\n",
       "      <td>-0.000016</td>\n",
       "      <td>-0.000016</td>\n",
       "      <td>-0.000012</td>\n",
       "      <td>-0.000009</td>\n",
       "      <td>-0.000023</td>\n",
       "      <td>-0.000022</td>\n",
       "      <td>-0.000022</td>\n",
       "      <td>-0.000018</td>\n",
       "      <td>-0.000020</td>\n",
       "      <td>4.0</td>\n",
       "    </tr>\n",
       "    <tr>\n",
       "      <th>4</th>\n",
       "      <td>0.000014</td>\n",
       "      <td>-0.000016</td>\n",
       "      <td>-0.000009</td>\n",
       "      <td>-1.251698e-05</td>\n",
       "      <td>-0.000016</td>\n",
       "      <td>-0.000016</td>\n",
       "      <td>-0.000020</td>\n",
       "      <td>-0.000017</td>\n",
       "      <td>-0.000026</td>\n",
       "      <td>-0.000028</td>\n",
       "      <td>...</td>\n",
       "      <td>-0.000009</td>\n",
       "      <td>-0.000009</td>\n",
       "      <td>-0.000003</td>\n",
       "      <td>-0.000003</td>\n",
       "      <td>-0.000016</td>\n",
       "      <td>-0.000017</td>\n",
       "      <td>-0.000015</td>\n",
       "      <td>-0.000011</td>\n",
       "      <td>-0.000012</td>\n",
       "      <td>4.0</td>\n",
       "    </tr>\n",
       "  </tbody>\n",
       "</table>\n",
       "<p>5 rows × 30001 columns</p>\n",
       "</div>"
      ],
      "text/plain": [
       "          0         1         2             3         4         5         6  \\\n",
       "0  0.000016 -0.000020 -0.000028 -1.597404e-05 -0.000034 -0.000023  0.000020   \n",
       "1  0.000024 -0.000027 -0.000015 -1.591444e-05 -0.000019 -0.000021 -0.000019   \n",
       "2 -0.000011  0.000011 -0.000021  9.536743e-07  0.000023  0.000007  0.000030   \n",
       "3  0.000024 -0.000027 -0.000016 -1.943111e-05 -0.000023 -0.000017 -0.000016   \n",
       "4  0.000014 -0.000016 -0.000009 -1.251698e-05 -0.000016 -0.000016 -0.000020   \n",
       "\n",
       "          7         8         9  ...     29991     29992     29993     29994  \\\n",
       "0 -0.000002 -0.000022 -0.000002  ... -0.000013 -0.000018 -0.000004  0.000004   \n",
       "1 -0.000005 -0.000025 -0.000028  ... -0.000017 -0.000015 -0.000007 -0.000007   \n",
       "2  0.000030 -0.000006  0.000004  ... -0.000003 -0.000002  0.000013  0.000015   \n",
       "3 -0.000007 -0.000014 -0.000015  ... -0.000016 -0.000016 -0.000012 -0.000009   \n",
       "4 -0.000017 -0.000026 -0.000028  ... -0.000009 -0.000009 -0.000003 -0.000003   \n",
       "\n",
       "      29995     29996     29997     29998     29999  label  \n",
       "0 -0.000030 -0.000042 -0.000022 -0.000013 -0.000017    4.0  \n",
       "1 -0.000029 -0.000032 -0.000027 -0.000018 -0.000022    4.0  \n",
       "2 -0.000009 -0.000023 -0.000005 -0.000002 -0.000011    4.0  \n",
       "3 -0.000023 -0.000022 -0.000022 -0.000018 -0.000020    4.0  \n",
       "4 -0.000016 -0.000017 -0.000015 -0.000011 -0.000012    4.0  \n",
       "\n",
       "[5 rows x 30001 columns]"
      ]
     },
     "execution_count": 70,
     "metadata": {},
     "output_type": "execute_result"
    }
   ],
   "source": [
    "# ensure that the dataframes are correctly labeled\n",
    "df_music.head()"
   ]
  },
  {
   "cell_type": "code",
   "execution_count": 82,
   "id": "5bc9f4d1",
   "metadata": {},
   "outputs": [
    {
     "name": "stdout",
     "output_type": "stream",
     "text": [
      "(61, 30001)\n",
      "(61, 30001)\n",
      "(61, 30001)\n",
      "(61, 30001)\n",
      "(61, 30001)\n",
      "(61, 30001)\n",
      "(61, 30001)\n",
      "(61, 30001)\n",
      "(61, 30001)\n",
      "(61, 30001)\n"
     ]
    }
   ],
   "source": [
    "# Creating lists from each dataframe, each list contains one frame of data\n",
    "list_df_closed = np.array_split(df_closed, 116)\n",
    "print(list_df_closed[0].shape)\n",
    "list_df_open = np.array_split(df_open, 116)\n",
    "print(list_df_open[0].shape)\n",
    "list_df_math = np.array_split(df_math, 119)\n",
    "print(list_df_math[0].shape)\n",
    "list_df_memory = np.array_split(df_memory, 119)\n",
    "print(list_df_memory[0].shape)\n",
    "list_df_music = np.array_split(df_music, 116)\n",
    "print(list_df_music[0].shape)\n",
    "list_df_closed_val = np.array_split(df_closed_val, 14)\n",
    "print(list_df_closed_val[0].shape)\n",
    "list_df_open_val = np.array_split(df_open_val, 14)\n",
    "print(list_df_open_val[0].shape)\n",
    "list_df_math_val = np.array_split(df_math_val, 14)\n",
    "print(list_df_math_val[0].shape)\n",
    "list_df_memory_val = np.array_split(df_memory_val, 14)\n",
    "print(list_df_memory_val[0].shape)\n",
    "list_df_music_val = np.array_split(df_music_val, 15)\n",
    "print(list_df_music_val[0].shape)\n"
   ]
  },
  {
   "cell_type": "code",
   "execution_count": 72,
   "id": "8ec743ff",
   "metadata": {},
   "outputs": [],
   "source": [
    "# Create a training dataset with multiple sessions / subjects\n",
    "training_examples = []\n",
    "for i in range(116):\n",
    "    training_examples.append(list_df_closed[i])\n",
    "    training_examples.append(list_df_open[i])\n",
    "    training_examples.append(list_df_math[i])\n",
    "    training_examples.append(list_df_memory[i])\n",
    "    training_examples.append(list_df_music[i])\n",
    "    "
   ]
  },
  {
   "cell_type": "code",
   "execution_count": 83,
   "id": "4cf49198",
   "metadata": {},
   "outputs": [],
   "source": [
    "# Create a validation dataset with multiple sessions / subjects\n",
    "validation_examples = []\n",
    "for i in range(14):\n",
    "    validation_examples.append(list_df_closed_val[i])\n",
    "    validation_examples.append(list_df_open_val[i])\n",
    "    validation_examples.append(list_df_math_val[i])\n",
    "    validation_examples.append(list_df_memory_val[i])\n",
    "    validation_examples.append(list_df_music_val[i])"
   ]
  },
  {
   "cell_type": "code",
   "execution_count": 47,
   "id": "f421487d",
   "metadata": {},
   "outputs": [
    {
     "name": "stdout",
     "output_type": "stream",
     "text": [
      "Number of channels: 61\n",
      "Number of samples: 30000\n",
      "image_size = 61 x 61\n",
      "Number of images per row: 491.8032786885246\n",
      "Number of classes: 5\n",
      "num_training_epochs = 285246\n"
     ]
    }
   ],
   "source": [
    "# defining parameters for the model\n",
    "\n",
    "batch_size = 32\n",
    "\n",
    "img_width = 61 \n",
    "\n",
    "img_height = 61\n",
    "\n",
    "num_channels = 61\n",
    "print(f'Number of channels: {num_channels}')\n",
    "# defining the number of samples\n",
    "\n",
    "num_samples = 30000\n",
    "print(f'Number of samples: {num_samples}')\n",
    "\n",
    "# defining the number of frames\n",
    "num_frames = num_samples/num_channels\n",
    "print(f'image_size = 61 x 61')\n",
    "print(f'Number of images per row: {num_frames}')\n",
    "\n",
    "# defining the number of classes\n",
    "num_classes = 5\n",
    "print(f'Number of classes: {num_classes}')\n",
    "\n",
    "# defining the number of epochs\n",
    "num_training_epochs = num_frames * 116 * num_classes\n",
    "print(f'num_training_epochs = {num_training_epochs.__round__()}')\n"
   ]
  },
  {
   "cell_type": "code",
   "execution_count": 73,
   "id": "07aba075",
   "metadata": {},
   "outputs": [
    {
     "name": "stdout",
     "output_type": "stream",
     "text": [
      "(35380, 30001)\n"
     ]
    }
   ],
   "source": [
    "# creating a single training dataframe\n",
    "training_examples = pd.concat(training_examples)\n",
    "print(training_examples.shape)"
   ]
  },
  {
   "cell_type": "code",
   "execution_count": 84,
   "id": "e45284f4",
   "metadata": {},
   "outputs": [
    {
     "name": "stdout",
     "output_type": "stream",
     "text": [
      "(4270, 30001)\n"
     ]
    }
   ],
   "source": [
    "# creating a single validation dataframe\n",
    "validation_examples = pd.concat(validation_examples)\n",
    "print(validation_examples.shape)"
   ]
  },
  {
   "cell_type": "code",
   "execution_count": 74,
   "id": "959d4469",
   "metadata": {},
   "outputs": [
    {
     "data": {
      "text/plain": [
       "0        float16\n",
       "1        float16\n",
       "2        float16\n",
       "3        float16\n",
       "4        float16\n",
       "          ...   \n",
       "29996    float16\n",
       "29997    float16\n",
       "29998    float16\n",
       "29999    float16\n",
       "label    float16\n",
       "Length: 30001, dtype: object"
      ]
     },
     "execution_count": 74,
     "metadata": {},
     "output_type": "execute_result"
    }
   ],
   "source": [
    "# ensuring uniform dtype\n",
    "training_examples.dtypes"
   ]
  },
  {
   "cell_type": "code",
   "execution_count": 76,
   "id": "ee6c56ec",
   "metadata": {},
   "outputs": [
    {
     "name": "stdout",
     "output_type": "stream",
     "text": [
      "(35380,)\n",
      "0    0.0\n",
      "1    0.0\n",
      "2    0.0\n",
      "3    0.0\n",
      "4    0.0\n",
      "Name: label, dtype: float16\n"
     ]
    }
   ],
   "source": [
    "# create a separate target dataframe\n",
    "target = training_examples.pop('label')\n",
    "print(target.shape)\n",
    "print(target.head())"
   ]
  },
  {
   "cell_type": "code",
   "execution_count": null,
   "id": "b671383c",
   "metadata": {},
   "outputs": [],
   "source": [
    "train_ds = tf.keras.utils.Sequence(training_examples, batch_size=batch_size, num_channels=num_channels, img_height=img_height, img_width=img_width, num_classes=num_classes)"
   ]
  },
  {
   "cell_type": "code",
   "execution_count": 78,
   "id": "7d60a3f8",
   "metadata": {},
   "outputs": [
    {
     "name": "stdout",
     "output_type": "stream",
     "text": [
      "Metal device set to: Apple M1\n",
      "\n",
      "systemMemory: 16.00 GB\n",
      "maxCacheSize: 5.33 GB\n",
      "\n"
     ]
    },
    {
     "name": "stderr",
     "output_type": "stream",
     "text": [
      "2022-03-24 14:26:07.637631: I tensorflow/core/common_runtime/pluggable_device/pluggable_device_factory.cc:305] Could not identify NUMA node of platform GPU ID 0, defaulting to 0. Your kernel may not have been built with NUMA support.\n",
      "2022-03-24 14:26:07.637866: I tensorflow/core/common_runtime/pluggable_device/pluggable_device_factory.cc:271] Created TensorFlow device (/job:localhost/replica:0/task:0/device:GPU:0 with 0 MB memory) -> physical PluggableDevice (device: 0, name: METAL, pci bus id: <undefined>)\n"
     ]
    }
   ],
   "source": [
    "# convert the dataframe to a tensor\n",
    "training_examples = tf.convert_to_tensor(training_examples)"
   ]
  },
  {
   "cell_type": "code",
   "execution_count": 134,
   "id": "0a842e15",
   "metadata": {},
   "outputs": [],
   "source": [
    "# Create a model\n",
    "model = tf.keras.Sequential([\n",
    "    tf.keras.layers.Flatten(input_shape=(30000, 1)),\n",
    "    tf.keras.layers.Dense(128, activation=tf.nn.relu),\n",
    "    tf.keras.layers.Dropout(0.2),\n",
    "    tf.keras.layers.Dense(10, activation=tf.nn.softmax)\n",
    "])\n",
    "\n",
    "    "
   ]
  },
  {
   "cell_type": "code",
   "execution_count": 135,
   "id": "9e42a724",
   "metadata": {},
   "outputs": [],
   "source": [
    "# Compile the model\n",
    "model.compile(optimizer='adam',\n",
    "                loss='sparse_categorical_crossentropy',\n",
    "                metrics=['accuracy'])\n"
   ]
  },
  {
   "cell_type": "code",
   "execution_count": 136,
   "id": "d3f147d0",
   "metadata": {},
   "outputs": [
    {
     "name": "stdout",
     "output_type": "stream",
     "text": [
      "Epoch 1/5\n",
      "   1/1106 [..............................] - ETA: 4:23 - loss: 2.3026 - accuracy: 0.1250"
     ]
    },
    {
     "name": "stderr",
     "output_type": "stream",
     "text": [
      "2022-03-24 15:38:09.827059: I tensorflow/core/grappler/optimizers/custom_graph_optimizer_registry.cc:112] Plugin optimizer for device_type GPU is enabled.\n"
     ]
    },
    {
     "name": "stdout",
     "output_type": "stream",
     "text": [
      "1106/1106 [==============================] - 13s 11ms/step - loss: 1.9916 - accuracy: 0.2008\n",
      "Epoch 2/5\n",
      "1106/1106 [==============================] - 13s 11ms/step - loss: 1.7410 - accuracy: 0.1983\n",
      "Epoch 3/5\n",
      "1106/1106 [==============================] - 13s 11ms/step - loss: 1.6725 - accuracy: 0.1995\n",
      "Epoch 4/5\n",
      "1106/1106 [==============================] - 13s 11ms/step - loss: 1.6448 - accuracy: 0.1945\n",
      "Epoch 5/5\n",
      "1106/1106 [==============================] - 13s 11ms/step - loss: 1.6307 - accuracy: 0.1979\n"
     ]
    },
    {
     "data": {
      "text/plain": [
       "<tensorflow.python.keras.callbacks.History at 0x142946d60>"
      ]
     },
     "execution_count": 136,
     "metadata": {},
     "output_type": "execute_result"
    }
   ],
   "source": [
    "# Train the model\n",
    "model.fit(training_examples, target, epochs=5, batch_size=32)\n"
   ]
  }
 ],
 "metadata": {
  "interpreter": {
   "hash": "b541e3e183694e8fa6a526cacf085d58b01826ae92a5e7e7ec9cf91fd02c76b0"
  },
  "kernelspec": {
   "display_name": "Python 3.9.10 ('mne')",
   "language": "python",
   "name": "python3"
  },
  "language_info": {
   "codemirror_mode": {
    "name": "ipython",
    "version": 3
   },
   "file_extension": ".py",
   "mimetype": "text/x-python",
   "name": "python",
   "nbconvert_exporter": "python",
   "pygments_lexer": "ipython3",
   "version": "3.9.7"
  }
 },
 "nbformat": 4,
 "nbformat_minor": 5
}
