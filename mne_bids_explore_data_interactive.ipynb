{
 "cells": [
  {
   "cell_type": "markdown",
   "id": "9a095b54-bb91-4234-bdc6-1141b7f140f7",
   "metadata": {},
   "source": [
    "#  The dataset is located at openneuro.org and its OpenNeuro Accession Number: ds003685 Files: 5398 Size: 30.52GB"
   ]
  },
  {
   "cell_type": "markdown",
   "id": "3fb1f694-771e-497e-991d-8069895ca03c",
   "metadata": {},
   "source": [
    "## Installations:\n",
    "If handling EEG / brain -imaging data for the first time. Create a separate conda environment on your machine and install some specialized modules"
   ]
  },
  {
   "cell_type": "markdown",
   "id": "6d57fded-837d-4f8e-851d-c25b47dfc751",
   "metadata": {},
   "source": [
    "### Install mne_bids and mne in one shot:\n",
    "    conda create --name mne --channel conda-forge mne-bids"
   ]
  },
  {
   "cell_type": "markdown",
   "id": "c4c267f7-5053-4cf8-bc94-1a0134fb4ee3",
   "metadata": {},
   "source": [
    "### Alternatively,install mne-python first, \n",
    "conda create --name=mne --channel=conda-forge mne\n",
    "\n",
    "details here: https://mne.tools/stable/index.html\n",
    "\n",
    "mne-python is the most popular open source tool for EEG. It is quite mature, allows for good interactive visualization of brain imaging data including EEG\n",
    "If using an M1 mac, be mindful of arm64 specific environment; if planning to use built-in GPU for keras / tensorflow DL"
   ]
  },
  {
   "cell_type": "markdown",
   "id": "2324d736-c3b3-489e-965e-662013214a8f",
   "metadata": {},
   "source": [
    "### install openneuro.py:\n",
    "pip install openneuro-py"
   ]
  },
  {
   "cell_type": "markdown",
   "id": "2fef6137-566e-484f-b479-777790927c9b",
   "metadata": {},
   "source": [
    "## Exploring ds03685 dataset with mne_bids"
   ]
  },
  {
   "cell_type": "code",
   "execution_count": 14,
   "id": "6f565bce-8f25-4cdf-b036-729c8ae7990c",
   "metadata": {},
   "outputs": [],
   "source": [
    "import os\n",
    "import os.path as op\n",
    "import openneuro\n",
    "import mne\n",
    "import matplotlib as pltA\n",
    "from mne.datasets import sample\n",
    "from mne_bids import BIDSPath, read_raw_bids, print_dir_tree, make_report\n",
    "import pandas as pd\n",
    "from tqdm import tqdm"
   ]
  },
  {
   "cell_type": "code",
   "execution_count": 2,
   "id": "6a6e11a0-fd0c-4795-b801-a5c64621b96b",
   "metadata": {},
   "outputs": [],
   "source": [
    "# .. note: If the keyword argument include is left out of\n",
    "#          ``openneuro.download``, the whole dataset will be downloaded.\n",
    "#          We're just using data from one subject to reduce the time\n",
    "#          it takes to run the example.\n",
    "\n",
    "dataset = 'ds003685'\n",
    "subject = '01'\n",
    "bids_root = op.join(op.dirname(sample.data_path()), dataset)\n",
    "if not op.isdir(bids_root):\n",
    "    os.makedirs(bids_root)"
   ]
  },
  {
   "cell_type": "code",
   "execution_count": 6,
   "id": "bb0400dc-92eb-4898-ae33-81096f8cc7b4",
   "metadata": {},
   "outputs": [
    {
     "name": "stdout",
     "output_type": "stream",
     "text": [
      "\n",
      "👋 Hello! This is openneuro-py 2022.1.0. Great to see you! 🤗\n",
      "\n",
      "   👉 Please report problems 🤯 and bugs 🪲 at\n",
      "      https://github.com/hoechenberger/openneuro-py/issues\n",
      "\n",
      "🌍 Preparing to download ds003685 …\n",
      "👉 Retrieving up to 94 files (5 concurrent downloads).\n",
      "✅ Finished downloading ds003685.\n",
      "\n",
      "🧠 Please enjoy your brains.\n",
      "\n"
     ]
    },
    {
     "data": {
      "application/vnd.jupyter.widget-view+json": {
       "model_id": "",
       "version_major": 2,
       "version_minor": 0
      },
      "text/plain": [
       "README:   0%|          | 0.00/891 [00:00<?, ?B/s]"
      ]
     },
     "metadata": {},
     "output_type": "display_data"
    },
    {
     "data": {
      "application/vnd.jupyter.widget-view+json": {
       "model_id": "",
       "version_major": 2,
       "version_minor": 0
      },
      "text/plain": [
       "dataset_description.json: 0.00B [00:00, ?B/s]"
      ]
     },
     "metadata": {},
     "output_type": "display_data"
    },
    {
     "data": {
      "application/vnd.jupyter.widget-view+json": {
       "model_id": "",
       "version_major": 2,
       "version_minor": 0
      },
      "text/plain": [
       "participants.tsv: 0.00B [00:00, ?B/s]"
      ]
     },
     "metadata": {},
     "output_type": "display_data"
    },
    {
     "data": {
      "application/vnd.jupyter.widget-view+json": {
       "model_id": "",
       "version_major": 2,
       "version_minor": 0
      },
      "text/plain": [
       "CHANGES: 0.00B [00:00, ?B/s]"
      ]
     },
     "metadata": {},
     "output_type": "display_data"
    },
    {
     "data": {
      "application/vnd.jupyter.widget-view+json": {
       "model_id": "",
       "version_major": 2,
       "version_minor": 0
      },
      "text/plain": [
       "sub-01_ses-session1_task-eyesclosed_run-1_channels.tsv: 0.00B [00:00, ?B/s]"
      ]
     },
     "metadata": {},
     "output_type": "display_data"
    },
    {
     "data": {
      "application/vnd.jupyter.widget-view+json": {
       "model_id": "",
       "version_major": 2,
       "version_minor": 0
      },
      "text/plain": [
       "sub-01_ses-session1_task-mathematic_run-3_events.tsv:   0%|          | 0.00/6.05k [00:00<?, ?B/s]"
      ]
     },
     "metadata": {},
     "output_type": "display_data"
    },
    {
     "data": {
      "application/vnd.jupyter.widget-view+json": {
       "model_id": "",
       "version_major": 2,
       "version_minor": 0
      },
      "text/plain": [
       "sub-01_ses-session1_task-mathematic_run-3_channels.tsv: 0.00B [00:00, ?B/s]"
      ]
     },
     "metadata": {},
     "output_type": "display_data"
    },
    {
     "data": {
      "application/vnd.jupyter.widget-view+json": {
       "model_id": "",
       "version_major": 2,
       "version_minor": 0
      },
      "text/plain": [
       "sub-01_ses-session1_task-mathematic_run-3_eeg.json: 0.00B [00:00, ?B/s]"
      ]
     },
     "metadata": {},
     "output_type": "display_data"
    },
    {
     "data": {
      "application/vnd.jupyter.widget-view+json": {
       "model_id": "",
       "version_major": 2,
       "version_minor": 0
      },
      "text/plain": [
       "sub-01_ses-session1_task-memory_run-4_eeg.json: 0.00B [00:00, ?B/s]"
      ]
     },
     "metadata": {},
     "output_type": "display_data"
    },
    {
     "data": {
      "application/vnd.jupyter.widget-view+json": {
       "model_id": "",
       "version_major": 2,
       "version_minor": 0
      },
      "text/plain": [
       "sub-01_ses-session1_task-memory_run-4_channels.tsv: 0.00B [00:00, ?B/s]"
      ]
     },
     "metadata": {},
     "output_type": "display_data"
    },
    {
     "data": {
      "application/vnd.jupyter.widget-view+json": {
       "model_id": "",
       "version_major": 2,
       "version_minor": 0
      },
      "text/plain": [
       "sub-01_ses-session2_task-eyesclosed_run-1_eeg.json: 0.00B [00:00, ?B/s]"
      ]
     },
     "metadata": {},
     "output_type": "display_data"
    },
    {
     "data": {
      "application/vnd.jupyter.widget-view+json": {
       "model_id": "",
       "version_major": 2,
       "version_minor": 0
      },
      "text/plain": [
       "sub-01_ses-session2_task-eyesclosed_run-1_events.tsv: 0.00B [00:00, ?B/s]"
      ]
     },
     "metadata": {},
     "output_type": "display_data"
    },
    {
     "data": {
      "application/vnd.jupyter.widget-view+json": {
       "model_id": "",
       "version_major": 2,
       "version_minor": 0
      },
      "text/plain": [
       "sub-01_ses-session2_task-eyesopen_run-2_events.tsv: 0.00B [00:00, ?B/s]"
      ]
     },
     "metadata": {},
     "output_type": "display_data"
    },
    {
     "data": {
      "application/vnd.jupyter.widget-view+json": {
       "model_id": "",
       "version_major": 2,
       "version_minor": 0
      },
      "text/plain": [
       "sub-01_ses-session2_task-eyesopen_run-2_channels.tsv: 0.00B [00:00, ?B/s]"
      ]
     },
     "metadata": {},
     "output_type": "display_data"
    },
    {
     "data": {
      "application/vnd.jupyter.widget-view+json": {
       "model_id": "",
       "version_major": 2,
       "version_minor": 0
      },
      "text/plain": [
       "sub-01_ses-session2_task-eyesopen_run-2_eeg.json: 0.00B [00:00, ?B/s]"
      ]
     },
     "metadata": {},
     "output_type": "display_data"
    },
    {
     "data": {
      "application/vnd.jupyter.widget-view+json": {
       "model_id": "",
       "version_major": 2,
       "version_minor": 0
      },
      "text/plain": [
       "sub-01_ses-session2_task-memory_run-4_events.tsv: 0.00B [00:00, ?B/s]"
      ]
     },
     "metadata": {},
     "output_type": "display_data"
    },
    {
     "data": {
      "application/vnd.jupyter.widget-view+json": {
       "model_id": "",
       "version_major": 2,
       "version_minor": 0
      },
      "text/plain": [
       "sub-01_ses-session2_task-music_run-5_eeg.json: 0.00B [00:00, ?B/s]"
      ]
     },
     "metadata": {},
     "output_type": "display_data"
    },
    {
     "data": {
      "application/vnd.jupyter.widget-view+json": {
       "model_id": "",
       "version_major": 2,
       "version_minor": 0
      },
      "text/plain": [
       "sub-01_ses-session2_task-music_run-5_channels.tsv: 0.00B [00:00, ?B/s]"
      ]
     },
     "metadata": {},
     "output_type": "display_data"
    },
    {
     "data": {
      "application/vnd.jupyter.widget-view+json": {
       "model_id": "",
       "version_major": 2,
       "version_minor": 0
      },
      "text/plain": [
       "sub-01_ses-session2_task-music_run-5_events.tsv: 0.00B [00:00, ?B/s]"
      ]
     },
     "metadata": {},
     "output_type": "display_data"
    },
    {
     "data": {
      "application/vnd.jupyter.widget-view+json": {
       "model_id": "",
       "version_major": 2,
       "version_minor": 0
      },
      "text/plain": [
       "sub-01_ses-session3_task-eyesclosed_run-1_channels.tsv: 0.00B [00:00, ?B/s]"
      ]
     },
     "metadata": {},
     "output_type": "display_data"
    },
    {
     "data": {
      "application/vnd.jupyter.widget-view+json": {
       "model_id": "",
       "version_major": 2,
       "version_minor": 0
      },
      "text/plain": [
       "sub-01_ses-session3_task-mathematic_run-3_channels.tsv: 0.00B [00:00, ?B/s]"
      ]
     },
     "metadata": {},
     "output_type": "display_data"
    },
    {
     "data": {
      "application/vnd.jupyter.widget-view+json": {
       "model_id": "",
       "version_major": 2,
       "version_minor": 0
      },
      "text/plain": [
       "sub-01_ses-session3_task-memory_run-4_channels.tsv: 0.00B [00:00, ?B/s]"
      ]
     },
     "metadata": {},
     "output_type": "display_data"
    },
    {
     "data": {
      "application/vnd.jupyter.widget-view+json": {
       "model_id": "",
       "version_major": 2,
       "version_minor": 0
      },
      "text/plain": [
       "sub-01_ses-session3_task-mathematic_run-3_events.tsv: 0.00B [00:00, ?B/s]"
      ]
     },
     "metadata": {},
     "output_type": "display_data"
    },
    {
     "data": {
      "application/vnd.jupyter.widget-view+json": {
       "model_id": "",
       "version_major": 2,
       "version_minor": 0
      },
      "text/plain": [
       "sub-01_ses-session3_task-memory_run-4_eeg.json: 0.00B [00:00, ?B/s]"
      ]
     },
     "metadata": {},
     "output_type": "display_data"
    },
    {
     "data": {
      "application/vnd.jupyter.widget-view+json": {
       "model_id": "",
       "version_major": 2,
       "version_minor": 0
      },
      "text/plain": [
       "sub-01_ses-session3_task-mathematic_run-3_eeg.json: 0.00B [00:00, ?B/s]"
      ]
     },
     "metadata": {},
     "output_type": "display_data"
    },
    {
     "data": {
      "application/vnd.jupyter.widget-view+json": {
       "model_id": "",
       "version_major": 2,
       "version_minor": 0
      },
      "text/plain": [
       "sub-01_ses-session1_task-eyesclosed_run-1_eeg.vhdr: 0.00B [00:00, ?B/s]"
      ]
     },
     "metadata": {},
     "output_type": "display_data"
    },
    {
     "data": {
      "application/vnd.jupyter.widget-view+json": {
       "model_id": "",
       "version_major": 2,
       "version_minor": 0
      },
      "text/plain": [
       "sub-01_ses-session1_task-eyesopen_run-2_eeg.vhdr: 0.00B [00:00, ?B/s]"
      ]
     },
     "metadata": {},
     "output_type": "display_data"
    },
    {
     "data": {
      "application/vnd.jupyter.widget-view+json": {
       "model_id": "",
       "version_major": 2,
       "version_minor": 0
      },
      "text/plain": [
       "sub-01_ses-session1_task-eyesclosed_run-1_eeg.vmrk: 0.00B [00:00, ?B/s]"
      ]
     },
     "metadata": {},
     "output_type": "display_data"
    },
    {
     "data": {
      "application/vnd.jupyter.widget-view+json": {
       "model_id": "",
       "version_major": 2,
       "version_minor": 0
      },
      "text/plain": [
       "sub-01_ses-session1_task-eyesopen_run-2_eeg.vmrk: 0.00B [00:00, ?B/s]"
      ]
     },
     "metadata": {},
     "output_type": "display_data"
    },
    {
     "data": {
      "application/vnd.jupyter.widget-view+json": {
       "model_id": "",
       "version_major": 2,
       "version_minor": 0
      },
      "text/plain": [
       "sub-01_ses-session1_task-eyesopen_run-2_eeg.eeg: 0.00B [00:00, ?B/s]"
      ]
     },
     "metadata": {},
     "output_type": "display_data"
    },
    {
     "data": {
      "application/vnd.jupyter.widget-view+json": {
       "model_id": "",
       "version_major": 2,
       "version_minor": 0
      },
      "text/plain": [
       "sub-01_ses-session1_task-music_run-5_eeg.vhdr: 0.00B [00:00, ?B/s]"
      ]
     },
     "metadata": {},
     "output_type": "display_data"
    },
    {
     "data": {
      "application/vnd.jupyter.widget-view+json": {
       "model_id": "",
       "version_major": 2,
       "version_minor": 0
      },
      "text/plain": [
       "sub-01_ses-session1_task-memory_run-4_eeg.vhdr: 0.00B [00:00, ?B/s]"
      ]
     },
     "metadata": {},
     "output_type": "display_data"
    },
    {
     "data": {
      "application/vnd.jupyter.widget-view+json": {
       "model_id": "",
       "version_major": 2,
       "version_minor": 0
      },
      "text/plain": [
       "sub-01_ses-session1_task-memory_run-4_eeg.vmrk: 0.00B [00:00, ?B/s]"
      ]
     },
     "metadata": {},
     "output_type": "display_data"
    },
    {
     "data": {
      "application/vnd.jupyter.widget-view+json": {
       "model_id": "",
       "version_major": 2,
       "version_minor": 0
      },
      "text/plain": [
       "sub-01_ses-session1_task-music_run-5_eeg.eeg: 0.00B [00:00, ?B/s]"
      ]
     },
     "metadata": {},
     "output_type": "display_data"
    },
    {
     "data": {
      "application/vnd.jupyter.widget-view+json": {
       "model_id": "",
       "version_major": 2,
       "version_minor": 0
      },
      "text/plain": [
       "sub-01_ses-session2_task-eyesopen_run-2_eeg.vhdr: 0.00B [00:00, ?B/s]"
      ]
     },
     "metadata": {},
     "output_type": "display_data"
    },
    {
     "data": {
      "application/vnd.jupyter.widget-view+json": {
       "model_id": "",
       "version_major": 2,
       "version_minor": 0
      },
      "text/plain": [
       "sub-01_ses-session2_task-eyesopen_run-2_eeg.vmrk: 0.00B [00:00, ?B/s]"
      ]
     },
     "metadata": {},
     "output_type": "display_data"
    },
    {
     "data": {
      "application/vnd.jupyter.widget-view+json": {
       "model_id": "",
       "version_major": 2,
       "version_minor": 0
      },
      "text/plain": [
       "sub-01_ses-session2_task-memory_run-4_eeg.vhdr: 0.00B [00:00, ?B/s]"
      ]
     },
     "metadata": {},
     "output_type": "display_data"
    },
    {
     "data": {
      "application/vnd.jupyter.widget-view+json": {
       "model_id": "",
       "version_major": 2,
       "version_minor": 0
      },
      "text/plain": [
       "sub-01_ses-session2_task-eyesopen_run-2_eeg.eeg: 0.00B [00:00, ?B/s]"
      ]
     },
     "metadata": {},
     "output_type": "display_data"
    },
    {
     "data": {
      "application/vnd.jupyter.widget-view+json": {
       "model_id": "",
       "version_major": 2,
       "version_minor": 0
      },
      "text/plain": [
       "sub-01_ses-session2_task-music_run-5_eeg.vhdr: 0.00B [00:00, ?B/s]"
      ]
     },
     "metadata": {},
     "output_type": "display_data"
    },
    {
     "data": {
      "application/vnd.jupyter.widget-view+json": {
       "model_id": "",
       "version_major": 2,
       "version_minor": 0
      },
      "text/plain": [
       "sub-01_ses-session2_task-music_run-5_eeg.eeg: 0.00B [00:00, ?B/s]"
      ]
     },
     "metadata": {},
     "output_type": "display_data"
    },
    {
     "data": {
      "application/vnd.jupyter.widget-view+json": {
       "model_id": "",
       "version_major": 2,
       "version_minor": 0
      },
      "text/plain": [
       "sub-01_ses-session3_task-eyesclosed_run-1_eeg.vhdr: 0.00B [00:00, ?B/s]"
      ]
     },
     "metadata": {},
     "output_type": "display_data"
    },
    {
     "data": {
      "application/vnd.jupyter.widget-view+json": {
       "model_id": "",
       "version_major": 2,
       "version_minor": 0
      },
      "text/plain": [
       "sub-01_ses-session3_task-eyesopen_run-2_eeg.eeg: 0.00B [00:00, ?B/s]"
      ]
     },
     "metadata": {},
     "output_type": "display_data"
    },
    {
     "data": {
      "application/vnd.jupyter.widget-view+json": {
       "model_id": "",
       "version_major": 2,
       "version_minor": 0
      },
      "text/plain": [
       "sub-01_ses-session3_task-eyesopen_run-2_eeg.vmrk: 0.00B [00:00, ?B/s]"
      ]
     },
     "metadata": {},
     "output_type": "display_data"
    },
    {
     "data": {
      "application/vnd.jupyter.widget-view+json": {
       "model_id": "",
       "version_major": 2,
       "version_minor": 0
      },
      "text/plain": [
       "sub-01_ses-session3_task-mathematic_run-3_eeg.vhdr: 0.00B [00:00, ?B/s]"
      ]
     },
     "metadata": {},
     "output_type": "display_data"
    },
    {
     "data": {
      "application/vnd.jupyter.widget-view+json": {
       "model_id": "",
       "version_major": 2,
       "version_minor": 0
      },
      "text/plain": [
       "sub-01_ses-session3_task-memory_run-4_eeg.eeg: 0.00B [00:00, ?B/s]"
      ]
     },
     "metadata": {},
     "output_type": "display_data"
    },
    {
     "data": {
      "application/vnd.jupyter.widget-view+json": {
       "model_id": "",
       "version_major": 2,
       "version_minor": 0
      },
      "text/plain": [
       "sub-01_ses-session3_task-memory_run-4_eeg.vmrk: 0.00B [00:00, ?B/s]"
      ]
     },
     "metadata": {},
     "output_type": "display_data"
    },
    {
     "data": {
      "application/vnd.jupyter.widget-view+json": {
       "model_id": "",
       "version_major": 2,
       "version_minor": 0
      },
      "text/plain": [
       "sub-01_ses-session3_task-music_run-5_eeg.vhdr: 0.00B [00:00, ?B/s]"
      ]
     },
     "metadata": {},
     "output_type": "display_data"
    },
    {
     "data": {
      "application/vnd.jupyter.widget-view+json": {
       "model_id": "",
       "version_major": 2,
       "version_minor": 0
      },
      "text/plain": [
       "sub-01_ses-session1_task-eyesclosed_run-1_eeg.json: 0.00B [00:00, ?B/s]"
      ]
     },
     "metadata": {},
     "output_type": "display_data"
    },
    {
     "data": {
      "application/vnd.jupyter.widget-view+json": {
       "model_id": "",
       "version_major": 2,
       "version_minor": 0
      },
      "text/plain": [
       "sub-01_ses-session1_task-eyesopen_run-2_channels.tsv: 0.00B [00:00, ?B/s]"
      ]
     },
     "metadata": {},
     "output_type": "display_data"
    },
    {
     "data": {
      "application/vnd.jupyter.widget-view+json": {
       "model_id": "",
       "version_major": 2,
       "version_minor": 0
      },
      "text/plain": [
       "sub-01_ses-session1_task-eyesopen_run-2_events.tsv:   0%|          | 0.00/6.05k [00:00<?, ?B/s]"
      ]
     },
     "metadata": {},
     "output_type": "display_data"
    },
    {
     "data": {
      "application/vnd.jupyter.widget-view+json": {
       "model_id": "",
       "version_major": 2,
       "version_minor": 0
      },
      "text/plain": [
       "sub-01_ses-session1_task-music_run-5_channels.tsv: 0.00B [00:00, ?B/s]"
      ]
     },
     "metadata": {},
     "output_type": "display_data"
    },
    {
     "data": {
      "application/vnd.jupyter.widget-view+json": {
       "model_id": "",
       "version_major": 2,
       "version_minor": 0
      },
      "text/plain": [
       "sub-01_ses-session1_task-music_run-5_events.tsv:   0%|          | 0.00/6.05k [00:00<?, ?B/s]"
      ]
     },
     "metadata": {},
     "output_type": "display_data"
    },
    {
     "data": {
      "application/vnd.jupyter.widget-view+json": {
       "model_id": "",
       "version_major": 2,
       "version_minor": 0
      },
      "text/plain": [
       "sub-01_ses-session2_task-eyesclosed_run-1_channels.tsv: 0.00B [00:00, ?B/s]"
      ]
     },
     "metadata": {},
     "output_type": "display_data"
    },
    {
     "data": {
      "application/vnd.jupyter.widget-view+json": {
       "model_id": "",
       "version_major": 2,
       "version_minor": 0
      },
      "text/plain": [
       "sub-01_ses-session2_task-mathematic_run-3_eeg.json: 0.00B [00:00, ?B/s]"
      ]
     },
     "metadata": {},
     "output_type": "display_data"
    },
    {
     "data": {
      "application/vnd.jupyter.widget-view+json": {
       "model_id": "",
       "version_major": 2,
       "version_minor": 0
      },
      "text/plain": [
       "sub-01_ses-session2_task-memory_run-4_channels.tsv: 0.00B [00:00, ?B/s]"
      ]
     },
     "metadata": {},
     "output_type": "display_data"
    },
    {
     "data": {
      "application/vnd.jupyter.widget-view+json": {
       "model_id": "",
       "version_major": 2,
       "version_minor": 0
      },
      "text/plain": [
       "sub-01_ses-session3_task-eyesclosed_run-1_eeg.json: 0.00B [00:00, ?B/s]"
      ]
     },
     "metadata": {},
     "output_type": "display_data"
    },
    {
     "data": {
      "application/vnd.jupyter.widget-view+json": {
       "model_id": "",
       "version_major": 2,
       "version_minor": 0
      },
      "text/plain": [
       "sub-01_ses-session3_task-eyesopen_run-2_channels.tsv: 0.00B [00:00, ?B/s]"
      ]
     },
     "metadata": {},
     "output_type": "display_data"
    },
    {
     "data": {
      "application/vnd.jupyter.widget-view+json": {
       "model_id": "",
       "version_major": 2,
       "version_minor": 0
      },
      "text/plain": [
       "sub-01_ses-session3_task-memory_run-4_events.tsv: 0.00B [00:00, ?B/s]"
      ]
     },
     "metadata": {},
     "output_type": "display_data"
    },
    {
     "data": {
      "application/vnd.jupyter.widget-view+json": {
       "model_id": "",
       "version_major": 2,
       "version_minor": 0
      },
      "text/plain": [
       "sub-01_ses-session3_task-eyesopen_run-2_events.tsv: 0.00B [00:00, ?B/s]"
      ]
     },
     "metadata": {},
     "output_type": "display_data"
    },
    {
     "data": {
      "application/vnd.jupyter.widget-view+json": {
       "model_id": "",
       "version_major": 2,
       "version_minor": 0
      },
      "text/plain": [
       "sub-01_ses-session3_task-music_run-5_eeg.json: 0.00B [00:00, ?B/s]"
      ]
     },
     "metadata": {},
     "output_type": "display_data"
    },
    {
     "data": {
      "application/vnd.jupyter.widget-view+json": {
       "model_id": "",
       "version_major": 2,
       "version_minor": 0
      },
      "text/plain": [
       "sub-01_ses-session1_task-mathematic_run-3_eeg.vmrk: 0.00B [00:00, ?B/s]"
      ]
     },
     "metadata": {},
     "output_type": "display_data"
    },
    {
     "data": {
      "application/vnd.jupyter.widget-view+json": {
       "model_id": "",
       "version_major": 2,
       "version_minor": 0
      },
      "text/plain": [
       "sub-01_ses-session1_task-mathematic_run-3_eeg.eeg: 0.00B [00:00, ?B/s]"
      ]
     },
     "metadata": {},
     "output_type": "display_data"
    },
    {
     "data": {
      "application/vnd.jupyter.widget-view+json": {
       "model_id": "",
       "version_major": 2,
       "version_minor": 0
      },
      "text/plain": [
       "sub-01_ses-session1_task-memory_run-4_eeg.eeg: 0.00B [00:00, ?B/s]"
      ]
     },
     "metadata": {},
     "output_type": "display_data"
    },
    {
     "data": {
      "application/vnd.jupyter.widget-view+json": {
       "model_id": "",
       "version_major": 2,
       "version_minor": 0
      },
      "text/plain": [
       "sub-01_ses-session2_task-eyesclosed_run-1_eeg.vmrk: 0.00B [00:00, ?B/s]"
      ]
     },
     "metadata": {},
     "output_type": "display_data"
    },
    {
     "data": {
      "application/vnd.jupyter.widget-view+json": {
       "model_id": "",
       "version_major": 2,
       "version_minor": 0
      },
      "text/plain": [
       "sub-01_ses-session2_task-eyesclosed_run-1_eeg.eeg: 0.00B [00:00, ?B/s]"
      ]
     },
     "metadata": {},
     "output_type": "display_data"
    },
    {
     "data": {
      "application/vnd.jupyter.widget-view+json": {
       "model_id": "",
       "version_major": 2,
       "version_minor": 0
      },
      "text/plain": [
       "sub-01_ses-session2_task-mathematic_run-3_eeg.vmrk: 0.00B [00:00, ?B/s]"
      ]
     },
     "metadata": {},
     "output_type": "display_data"
    },
    {
     "data": {
      "application/vnd.jupyter.widget-view+json": {
       "model_id": "",
       "version_major": 2,
       "version_minor": 0
      },
      "text/plain": [
       "sub-01_ses-session2_task-music_run-5_eeg.vmrk: 0.00B [00:00, ?B/s]"
      ]
     },
     "metadata": {},
     "output_type": "display_data"
    },
    {
     "data": {
      "application/vnd.jupyter.widget-view+json": {
       "model_id": "",
       "version_major": 2,
       "version_minor": 0
      },
      "text/plain": [
       "sub-01_ses-session3_task-eyesclosed_run-1_eeg.vmrk: 0.00B [00:00, ?B/s]"
      ]
     },
     "metadata": {},
     "output_type": "display_data"
    },
    {
     "data": {
      "application/vnd.jupyter.widget-view+json": {
       "model_id": "",
       "version_major": 2,
       "version_minor": 0
      },
      "text/plain": [
       "sub-01_ses-session3_task-mathematic_run-3_eeg.eeg: 0.00B [00:00, ?B/s]"
      ]
     },
     "metadata": {},
     "output_type": "display_data"
    },
    {
     "data": {
      "application/vnd.jupyter.widget-view+json": {
       "model_id": "",
       "version_major": 2,
       "version_minor": 0
      },
      "text/plain": [
       "sub-01_ses-session3_task-memory_run-4_eeg.vhdr: 0.00B [00:00, ?B/s]"
      ]
     },
     "metadata": {},
     "output_type": "display_data"
    },
    {
     "data": {
      "application/vnd.jupyter.widget-view+json": {
       "model_id": "",
       "version_major": 2,
       "version_minor": 0
      },
      "text/plain": [
       "sub-01_ses-session3_task-music_run-5_eeg.vmrk: 0.00B [00:00, ?B/s]"
      ]
     },
     "metadata": {},
     "output_type": "display_data"
    },
    {
     "data": {
      "application/vnd.jupyter.widget-view+json": {
       "model_id": "",
       "version_major": 2,
       "version_minor": 0
      },
      "text/plain": [
       "sub-01_ses-session1_task-eyesopen_run-2_eeg.json: 0.00B [00:00, ?B/s]"
      ]
     },
     "metadata": {},
     "output_type": "display_data"
    },
    {
     "data": {
      "application/vnd.jupyter.widget-view+json": {
       "model_id": "",
       "version_major": 2,
       "version_minor": 0
      },
      "text/plain": [
       "sub-01_ses-session1_task-music_run-5_eeg.json: 0.00B [00:00, ?B/s]"
      ]
     },
     "metadata": {},
     "output_type": "display_data"
    },
    {
     "data": {
      "application/vnd.jupyter.widget-view+json": {
       "model_id": "",
       "version_major": 2,
       "version_minor": 0
      },
      "text/plain": [
       "sub-01_ses-session2_task-mathematic_run-3_events.tsv: 0.00B [00:00, ?B/s]"
      ]
     },
     "metadata": {},
     "output_type": "display_data"
    },
    {
     "data": {
      "application/vnd.jupyter.widget-view+json": {
       "model_id": "",
       "version_major": 2,
       "version_minor": 0
      },
      "text/plain": [
       "sub-01_ses-session3_task-eyesclosed_run-1_events.tsv: 0.00B [00:00, ?B/s]"
      ]
     },
     "metadata": {},
     "output_type": "display_data"
    },
    {
     "data": {
      "application/vnd.jupyter.widget-view+json": {
       "model_id": "",
       "version_major": 2,
       "version_minor": 0
      },
      "text/plain": [
       "sub-01_ses-session3_task-eyesopen_run-2_eeg.json: 0.00B [00:00, ?B/s]"
      ]
     },
     "metadata": {},
     "output_type": "display_data"
    },
    {
     "data": {
      "application/vnd.jupyter.widget-view+json": {
       "model_id": "",
       "version_major": 2,
       "version_minor": 0
      },
      "text/plain": [
       "sub-01_ses-session1_task-mathematic_run-3_eeg.vhdr: 0.00B [00:00, ?B/s]"
      ]
     },
     "metadata": {},
     "output_type": "display_data"
    },
    {
     "data": {
      "application/vnd.jupyter.widget-view+json": {
       "model_id": "",
       "version_major": 2,
       "version_minor": 0
      },
      "text/plain": [
       "sub-01_ses-session1_task-music_run-5_eeg.vmrk: 0.00B [00:00, ?B/s]"
      ]
     },
     "metadata": {},
     "output_type": "display_data"
    },
    {
     "data": {
      "application/vnd.jupyter.widget-view+json": {
       "model_id": "",
       "version_major": 2,
       "version_minor": 0
      },
      "text/plain": [
       "sub-01_ses-session1_task-eyesclosed_run-1_eeg.eeg: 0.00B [00:00, ?B/s]"
      ]
     },
     "metadata": {},
     "output_type": "display_data"
    },
    {
     "data": {
      "application/vnd.jupyter.widget-view+json": {
       "model_id": "",
       "version_major": 2,
       "version_minor": 0
      },
      "text/plain": [
       "sub-01_ses-session2_task-memory_run-4_eeg.eeg: 0.00B [00:00, ?B/s]"
      ]
     },
     "metadata": {},
     "output_type": "display_data"
    },
    {
     "data": {
      "application/vnd.jupyter.widget-view+json": {
       "model_id": "",
       "version_major": 2,
       "version_minor": 0
      },
      "text/plain": [
       "sub-01_ses-session2_task-mathematic_run-3_eeg.eeg: 0.00B [00:00, ?B/s]"
      ]
     },
     "metadata": {},
     "output_type": "display_data"
    },
    {
     "data": {
      "application/vnd.jupyter.widget-view+json": {
       "model_id": "",
       "version_major": 2,
       "version_minor": 0
      },
      "text/plain": [
       "sub-01_ses-session3_task-eyesclosed_run-1_eeg.eeg: 0.00B [00:00, ?B/s]"
      ]
     },
     "metadata": {},
     "output_type": "display_data"
    },
    {
     "data": {
      "application/vnd.jupyter.widget-view+json": {
       "model_id": "",
       "version_major": 2,
       "version_minor": 0
      },
      "text/plain": [
       "sub-01_ses-session1_task-eyesclosed_run-1_events.tsv:   0%|          | 0.00/6.05k [00:00<?, ?B/s]"
      ]
     },
     "metadata": {},
     "output_type": "display_data"
    },
    {
     "data": {
      "application/vnd.jupyter.widget-view+json": {
       "model_id": "",
       "version_major": 2,
       "version_minor": 0
      },
      "text/plain": [
       "sub-01_ses-session2_task-mathematic_run-3_channels.tsv: 0.00B [00:00, ?B/s]"
      ]
     },
     "metadata": {},
     "output_type": "display_data"
    },
    {
     "data": {
      "application/vnd.jupyter.widget-view+json": {
       "model_id": "",
       "version_major": 2,
       "version_minor": 0
      },
      "text/plain": [
       "sub-01_ses-session3_task-music_run-5_channels.tsv: 0.00B [00:00, ?B/s]"
      ]
     },
     "metadata": {},
     "output_type": "display_data"
    },
    {
     "data": {
      "application/vnd.jupyter.widget-view+json": {
       "model_id": "",
       "version_major": 2,
       "version_minor": 0
      },
      "text/plain": [
       "sub-01_ses-session2_task-eyesclosed_run-1_eeg.vhdr: 0.00B [00:00, ?B/s]"
      ]
     },
     "metadata": {},
     "output_type": "display_data"
    },
    {
     "data": {
      "application/vnd.jupyter.widget-view+json": {
       "model_id": "",
       "version_major": 2,
       "version_minor": 0
      },
      "text/plain": [
       "sub-01_ses-session2_task-memory_run-4_eeg.vmrk: 0.00B [00:00, ?B/s]"
      ]
     },
     "metadata": {},
     "output_type": "display_data"
    },
    {
     "data": {
      "application/vnd.jupyter.widget-view+json": {
       "model_id": "",
       "version_major": 2,
       "version_minor": 0
      },
      "text/plain": [
       "sub-01_ses-session3_task-mathematic_run-3_eeg.vmrk: 0.00B [00:00, ?B/s]"
      ]
     },
     "metadata": {},
     "output_type": "display_data"
    },
    {
     "data": {
      "application/vnd.jupyter.widget-view+json": {
       "model_id": "",
       "version_major": 2,
       "version_minor": 0
      },
      "text/plain": [
       "sub-01_ses-session1_task-memory_run-4_events.tsv:   0%|          | 0.00/6.05k [00:00<?, ?B/s]"
      ]
     },
     "metadata": {},
     "output_type": "display_data"
    },
    {
     "data": {
      "application/vnd.jupyter.widget-view+json": {
       "model_id": "",
       "version_major": 2,
       "version_minor": 0
      },
      "text/plain": [
       "sub-01_ses-session2_task-memory_run-4_eeg.json: 0.00B [00:00, ?B/s]"
      ]
     },
     "metadata": {},
     "output_type": "display_data"
    },
    {
     "data": {
      "application/vnd.jupyter.widget-view+json": {
       "model_id": "",
       "version_major": 2,
       "version_minor": 0
      },
      "text/plain": [
       "sub-01_ses-session3_task-eyesopen_run-2_eeg.vhdr: 0.00B [00:00, ?B/s]"
      ]
     },
     "metadata": {},
     "output_type": "display_data"
    },
    {
     "data": {
      "application/vnd.jupyter.widget-view+json": {
       "model_id": "",
       "version_major": 2,
       "version_minor": 0
      },
      "text/plain": [
       "sub-01_ses-session3_task-music_run-5_events.tsv: 0.00B [00:00, ?B/s]"
      ]
     },
     "metadata": {},
     "output_type": "display_data"
    },
    {
     "data": {
      "application/vnd.jupyter.widget-view+json": {
       "model_id": "",
       "version_major": 2,
       "version_minor": 0
      },
      "text/plain": [
       "sub-01_ses-session2_task-mathematic_run-3_eeg.vhdr: 0.00B [00:00, ?B/s]"
      ]
     },
     "metadata": {},
     "output_type": "display_data"
    },
    {
     "data": {
      "application/vnd.jupyter.widget-view+json": {
       "model_id": "",
       "version_major": 2,
       "version_minor": 0
      },
      "text/plain": [
       "sub-01_ses-session3_task-music_run-5_eeg.eeg: 0.00B [00:00, ?B/s]"
      ]
     },
     "metadata": {},
     "output_type": "display_data"
    }
   ],
   "source": [
    "# Download one subject's data from each dataset\n",
    "openneuro.download(dataset=dataset, target_dir=bids_root,\n",
    "                   include=[f'sub-{subject}'])"
   ]
  },
  {
   "cell_type": "code",
   "execution_count": 15,
   "id": "58383a49-df0b-43e0-8696-a13637173ff4",
   "metadata": {},
   "outputs": [
    {
     "name": "stdout",
     "output_type": "stream",
     "text": [
      "|ds003685/\n",
      "|--- CHANGES\n",
      "|--- README\n",
      "|--- dataset_description.json\n",
      "|--- participants.tsv\n",
      "|--- eeg/\n",
      "|--- sub-01/\n",
      "|------ ses-session1/\n",
      "|--------- eeg/\n",
      "|------------ sub-01_ses-session1_task-eyesclosed_run-1_channels.tsv\n",
      "|------------ sub-01_ses-session1_task-eyesclosed_run-1_eeg.eeg\n",
      "|------------ sub-01_ses-session1_task-eyesclosed_run-1_eeg.json\n",
      "|------------ sub-01_ses-session1_task-eyesclosed_run-1_eeg.vhdr\n",
      "|------------ sub-01_ses-session1_task-eyesclosed_run-1_eeg.vmrk\n",
      "|------------ sub-01_ses-session1_task-eyesclosed_run-1_events.tsv\n",
      "|------------ sub-01_ses-session1_task-eyesopen_run-2_channels.tsv\n",
      "|------------ sub-01_ses-session1_task-eyesopen_run-2_eeg.eeg\n",
      "|------------ sub-01_ses-session1_task-eyesopen_run-2_eeg.json\n",
      "|------------ sub-01_ses-session1_task-eyesopen_run-2_eeg.vhdr\n",
      "|------------ sub-01_ses-session1_task-eyesopen_run-2_eeg.vmrk\n",
      "|------------ sub-01_ses-session1_task-eyesopen_run-2_events.tsv\n",
      "|------------ sub-01_ses-session1_task-mathematic_run-3_channels.tsv\n",
      "|------------ sub-01_ses-session1_task-mathematic_run-3_eeg.eeg\n",
      "|------------ sub-01_ses-session1_task-mathematic_run-3_eeg.json\n",
      "|------------ sub-01_ses-session1_task-mathematic_run-3_eeg.vhdr\n",
      "|------------ sub-01_ses-session1_task-mathematic_run-3_eeg.vmrk\n",
      "|------------ sub-01_ses-session1_task-mathematic_run-3_events.tsv\n",
      "|------------ sub-01_ses-session1_task-memory_run-4_channels.tsv\n",
      "|------------ sub-01_ses-session1_task-memory_run-4_eeg.eeg\n",
      "|------------ sub-01_ses-session1_task-memory_run-4_eeg.json\n",
      "|------------ sub-01_ses-session1_task-memory_run-4_eeg.vhdr\n",
      "|------------ sub-01_ses-session1_task-memory_run-4_eeg.vmrk\n",
      "|------------ sub-01_ses-session1_task-memory_run-4_events.tsv\n",
      "|------------ sub-01_ses-session1_task-music_run-5_channels.tsv\n",
      "|------------ sub-01_ses-session1_task-music_run-5_eeg.eeg\n",
      "|------------ sub-01_ses-session1_task-music_run-5_eeg.json\n",
      "|------------ sub-01_ses-session1_task-music_run-5_eeg.vhdr\n",
      "|------------ sub-01_ses-session1_task-music_run-5_eeg.vmrk\n",
      "|------------ sub-01_ses-session1_task-music_run-5_events.tsv\n",
      "|------ ses-session2/\n",
      "|--------- eeg/\n",
      "|------------ sub-01_ses-session2_task-eyesclosed_run-1_channels.tsv\n",
      "|------------ sub-01_ses-session2_task-eyesclosed_run-1_eeg.eeg\n",
      "|------------ sub-01_ses-session2_task-eyesclosed_run-1_eeg.json\n",
      "|------------ sub-01_ses-session2_task-eyesclosed_run-1_eeg.vhdr\n",
      "|------------ sub-01_ses-session2_task-eyesclosed_run-1_eeg.vmrk\n",
      "|------------ sub-01_ses-session2_task-eyesclosed_run-1_events.tsv\n",
      "|------------ sub-01_ses-session2_task-eyesopen_run-2_channels.tsv\n",
      "|------------ sub-01_ses-session2_task-eyesopen_run-2_eeg.eeg\n",
      "|------------ sub-01_ses-session2_task-eyesopen_run-2_eeg.json\n",
      "|------------ sub-01_ses-session2_task-eyesopen_run-2_eeg.vhdr\n",
      "|------------ sub-01_ses-session2_task-eyesopen_run-2_eeg.vmrk\n",
      "|------------ sub-01_ses-session2_task-eyesopen_run-2_events.tsv\n",
      "|------------ sub-01_ses-session2_task-mathematic_run-3_channels.tsv\n",
      "|------------ sub-01_ses-session2_task-mathematic_run-3_eeg.eeg\n",
      "|------------ sub-01_ses-session2_task-mathematic_run-3_eeg.json\n",
      "|------------ sub-01_ses-session2_task-mathematic_run-3_eeg.vhdr\n",
      "|------------ sub-01_ses-session2_task-mathematic_run-3_eeg.vmrk\n",
      "|------------ sub-01_ses-session2_task-mathematic_run-3_events.tsv\n",
      "|------------ sub-01_ses-session2_task-memory_run-4_channels.tsv\n",
      "|------------ sub-01_ses-session2_task-memory_run-4_eeg.eeg\n",
      "|------------ sub-01_ses-session2_task-memory_run-4_eeg.json\n",
      "|------------ sub-01_ses-session2_task-memory_run-4_eeg.vhdr\n",
      "|------------ sub-01_ses-session2_task-memory_run-4_eeg.vmrk\n",
      "|------------ sub-01_ses-session2_task-memory_run-4_events.tsv\n",
      "|------------ sub-01_ses-session2_task-music_run-5_channels.tsv\n",
      "|------------ sub-01_ses-session2_task-music_run-5_eeg.eeg\n",
      "|------------ sub-01_ses-session2_task-music_run-5_eeg.json\n",
      "|------------ sub-01_ses-session2_task-music_run-5_eeg.vhdr\n",
      "|------------ sub-01_ses-session2_task-music_run-5_eeg.vmrk\n",
      "|------------ sub-01_ses-session2_task-music_run-5_events.tsv\n",
      "|------ ses-session3/\n",
      "|--------- eeg/\n",
      "|------------ sub-01_ses-session3_task-eyesclosed_run-1_channels.tsv\n",
      "|------------ sub-01_ses-session3_task-eyesclosed_run-1_eeg.eeg\n",
      "|------------ sub-01_ses-session3_task-eyesclosed_run-1_eeg.json\n",
      "|------------ sub-01_ses-session3_task-eyesclosed_run-1_eeg.vhdr\n",
      "|------------ sub-01_ses-session3_task-eyesclosed_run-1_eeg.vmrk\n",
      "|------------ sub-01_ses-session3_task-eyesclosed_run-1_events.tsv\n",
      "|------------ sub-01_ses-session3_task-eyesopen_run-2_channels.tsv\n",
      "|------------ sub-01_ses-session3_task-eyesopen_run-2_eeg.eeg\n",
      "|------------ sub-01_ses-session3_task-eyesopen_run-2_eeg.json\n",
      "|------------ sub-01_ses-session3_task-eyesopen_run-2_eeg.vhdr\n",
      "|------------ sub-01_ses-session3_task-eyesopen_run-2_eeg.vmrk\n",
      "|------------ sub-01_ses-session3_task-eyesopen_run-2_events.tsv\n",
      "|------------ sub-01_ses-session3_task-mathematic_run-3_channels.tsv\n",
      "|------------ sub-01_ses-session3_task-mathematic_run-3_eeg.eeg\n",
      "|------------ sub-01_ses-session3_task-mathematic_run-3_eeg.json\n",
      "|------------ sub-01_ses-session3_task-mathematic_run-3_eeg.vhdr\n",
      "|------------ sub-01_ses-session3_task-mathematic_run-3_eeg.vmrk\n",
      "|------------ sub-01_ses-session3_task-mathematic_run-3_events.tsv\n",
      "|------------ sub-01_ses-session3_task-memory_run-4_channels.tsv\n",
      "|------------ sub-01_ses-session3_task-memory_run-4_eeg.eeg\n",
      "|------------ sub-01_ses-session3_task-memory_run-4_eeg.json\n",
      "|------------ sub-01_ses-session3_task-memory_run-4_eeg.vhdr\n",
      "|------------ sub-01_ses-session3_task-memory_run-4_eeg.vmrk\n",
      "|------------ sub-01_ses-session3_task-memory_run-4_events.tsv\n",
      "|------------ sub-01_ses-session3_task-music_run-5_channels.tsv\n",
      "|------------ sub-01_ses-session3_task-music_run-5_eeg.eeg\n",
      "|------------ sub-01_ses-session3_task-music_run-5_eeg.json\n",
      "|------------ sub-01_ses-session3_task-music_run-5_eeg.vhdr\n",
      "|------------ sub-01_ses-session3_task-music_run-5_eeg.vmrk\n",
      "|------------ sub-01_ses-session3_task-music_run-5_events.tsv\n"
     ]
    }
   ],
   "source": [
    "print_dir_tree(bids_root, max_depth=4)"
   ]
  },
  {
   "cell_type": "code",
   "execution_count": 16,
   "id": "e03158f0-0723-4fd4-8d1a-3d88f7aabbe1",
   "metadata": {},
   "outputs": [
    {
     "name": "stdout",
     "output_type": "stream",
     "text": [
      "Summarizing participants.tsv /Users/asgnxt/mne-miniconda/mne_data/ds003685/participants.tsv...\n",
      "The participant template found: comprised of 28 male and 32 female participants;\n",
      "handedness were all unknown;\n",
      "ages ranged from 18.0 to 28.0 (mean = 20.0, std = 1.89; 5 with unknown age)\n",
      " The A test-retest resting and cognitive state EEG dataset dataset was created\n",
      "by Yulin Wang, Wei Duan, Lihong Ding, Debo Dong, and Xu Lei and conforms to BIDS\n",
      "version 1.2. This report was generated with MNE-BIDS\n",
      "(https://doi.org/10.21105/joss.01896). The dataset consists of 1 participants\n",
      "(comprised of 28 male and 32 female participants; handedness were all unknown;\n",
      "ages ranged from 18.0 to 28.0 (mean = 20.0, std = 1.89; 5 with unknown age)) and\n",
      "3 recording sessions: session1, session2, and session3.\n"
     ]
    },
    {
     "name": "stderr",
     "output_type": "stream",
     "text": [
      "/var/folders/f6/xkyty3nj32785_c9xjmhv0p80000gn/T/ipykernel_18343/3390368180.py:1: RuntimeWarning: No *scans.tsv files found. Currently, we do not generate a report without the scans.tsv files.\n",
      "  print(make_report(bids_root))\n"
     ]
    }
   ],
   "source": [
    "print(make_report(bids_root))"
   ]
  },
  {
   "cell_type": "code",
   "execution_count": 17,
   "id": "80715df8-65db-4fd1-9148-25d4db9273f6",
   "metadata": {},
   "outputs": [],
   "source": [
    "datatype = 'eeg'\n",
    "session = 'session1' # change to session2, session3 after done with first one\n",
    "task = 'music' # change when finished\n",
    "suffix = 'eeg'\n",
    "bids_path = BIDSPath(task=task,\n",
    "                     suffix=suffix, datatype=datatype, root=bids_root)"
   ]
  },
  {
   "cell_type": "code",
   "execution_count": 6,
   "id": "d6f37bc5-c72d-4c0c-957b-5fa2ba7f35d2",
   "metadata": {},
   "outputs": [
    {
     "name": "stdout",
     "output_type": "stream",
     "text": [
      "[BIDSPath(\n",
      "root: /Users/asgnxt/mne-miniconda/mne_data/ds003685\n",
      "datatype: eeg\n",
      "basename: sub-01_ses-session1_task-music_run-5_eeg.eeg), BIDSPath(\n",
      "root: /Users/asgnxt/mne-miniconda/mne_data/ds003685\n",
      "datatype: eeg\n",
      "basename: sub-01_ses-session1_task-music_run-5_eeg.vhdr), BIDSPath(\n",
      "root: /Users/asgnxt/mne-miniconda/mne_data/ds003685\n",
      "datatype: eeg\n",
      "basename: sub-01_ses-session1_task-music_run-5_eeg.vmrk), BIDSPath(\n",
      "root: /Users/asgnxt/mne-miniconda/mne_data/ds003685\n",
      "datatype: eeg\n",
      "basename: sub-01_ses-session2_task-music_run-5_eeg.eeg), BIDSPath(\n",
      "root: /Users/asgnxt/mne-miniconda/mne_data/ds003685\n",
      "datatype: eeg\n",
      "basename: sub-01_ses-session2_task-music_run-5_eeg.vhdr), BIDSPath(\n",
      "root: /Users/asgnxt/mne-miniconda/mne_data/ds003685\n",
      "datatype: eeg\n",
      "basename: sub-01_ses-session2_task-music_run-5_eeg.vmrk), BIDSPath(\n",
      "root: /Users/asgnxt/mne-miniconda/mne_data/ds003685\n",
      "datatype: eeg\n",
      "basename: sub-01_ses-session3_task-music_run-5_eeg.eeg), BIDSPath(\n",
      "root: /Users/asgnxt/mne-miniconda/mne_data/ds003685\n",
      "datatype: eeg\n",
      "basename: sub-01_ses-session3_task-music_run-5_eeg.vhdr), BIDSPath(\n",
      "root: /Users/asgnxt/mne-miniconda/mne_data/ds003685\n",
      "datatype: eeg\n",
      "basename: sub-01_ses-session3_task-music_run-5_eeg.vmrk)]\n"
     ]
    }
   ],
   "source": [
    "print(bids_path.match())"
   ]
  },
  {
   "cell_type": "code",
   "execution_count": 7,
   "id": "9981e3ee-eef6-4b23-8707-174010c8572c",
   "metadata": {},
   "outputs": [
    {
     "name": "stdout",
     "output_type": "stream",
     "text": [
      "/Users/asgnxt/mne-miniconda/mne_data/ds003685/eeg/task-music_eeg\n"
     ]
    }
   ],
   "source": [
    "print(bids_path)"
   ]
  },
  {
   "cell_type": "markdown",
   "id": "336dd7c3-339d-4255-a0b9-2034f6ce117e",
   "metadata": {},
   "source": [
    "### Read in the raw data"
   ]
  },
  {
   "cell_type": "code",
   "execution_count": 18,
   "id": "79f2459f-3dc5-4144-984d-6a769d1b0cf2",
   "metadata": {},
   "outputs": [
    {
     "name": "stderr",
     "output_type": "stream",
     "text": [
      "100%|████████████████████████████████████████████████████████████████████████| 8/8 [00:00<00:00, 217.75it/s]\n"
     ]
    }
   ],
   "source": [
    "# get names of the .vhdr files\n",
    "basenames = []\n",
    "for i in tqdm(range(0, 8)):\n",
    "    if bids_path.match()[i].basename[-4:] == 'vhdr':\n",
    "        basenames.append(bids_path.match()[i])"
   ]
  },
  {
   "cell_type": "code",
   "execution_count": 19,
   "id": "5bf75945-94a4-43d1-9269-2e9e2a78246f",
   "metadata": {},
   "outputs": [
    {
     "name": "stderr",
     "output_type": "stream",
     "text": [
      "  0%|                                                                                 | 0/3 [00:00<?, ?it/s]"
     ]
    },
    {
     "name": "stdout",
     "output_type": "stream",
     "text": [
      "Reading 0 ... 149999  =      0.000 ...   299.998 secs...\n",
      "Filtering raw data in 1 contiguous segment\n",
      "Setting up band-pass filter from 1 - 40 Hz\n",
      "\n",
      "FIR filter parameters\n",
      "---------------------\n",
      "Designing a one-pass, zero-phase, non-causal bandpass filter:\n",
      "- Windowed time-domain design (firwin) method\n",
      "- Hamming window with 0.0194 passband ripple and 53 dB stopband attenuation\n",
      "- Lower passband edge: 1.00\n",
      "- Lower transition bandwidth: 1.00 Hz (-6 dB cutoff frequency: 0.50 Hz)\n",
      "- Upper passband edge: 40.00 Hz\n",
      "- Upper transition bandwidth: 10.00 Hz (-6 dB cutoff frequency: 45.00 Hz)\n",
      "- Filter length: 1651 samples (3.302 sec)\n",
      "\n"
     ]
    },
    {
     "name": "stderr",
     "output_type": "stream",
     "text": [
      " 33%|████████████████████████▎                                                | 1/3 [00:00<00:00,  2.45it/s]"
     ]
    },
    {
     "name": "stdout",
     "output_type": "stream",
     "text": [
      "Reading 0 ... 149999  =      0.000 ...   299.998 secs...\n",
      "Filtering raw data in 1 contiguous segment\n",
      "Setting up band-pass filter from 1 - 40 Hz\n",
      "\n",
      "FIR filter parameters\n",
      "---------------------\n",
      "Designing a one-pass, zero-phase, non-causal bandpass filter:\n",
      "- Windowed time-domain design (firwin) method\n",
      "- Hamming window with 0.0194 passband ripple and 53 dB stopband attenuation\n",
      "- Lower passband edge: 1.00\n",
      "- Lower transition bandwidth: 1.00 Hz (-6 dB cutoff frequency: 0.50 Hz)\n",
      "- Upper passband edge: 40.00 Hz\n",
      "- Upper transition bandwidth: 10.00 Hz (-6 dB cutoff frequency: 45.00 Hz)\n",
      "- Filter length: 1651 samples (3.302 sec)\n",
      "\n"
     ]
    },
    {
     "name": "stderr",
     "output_type": "stream",
     "text": [
      " 67%|████████████████████████████████████████████████▋                        | 2/3 [00:00<00:00,  2.46it/s]"
     ]
    },
    {
     "name": "stdout",
     "output_type": "stream",
     "text": [
      "Reading 0 ... 149999  =      0.000 ...   299.998 secs...\n",
      "Filtering raw data in 1 contiguous segment\n",
      "Setting up band-pass filter from 1 - 40 Hz\n",
      "\n",
      "FIR filter parameters\n",
      "---------------------\n",
      "Designing a one-pass, zero-phase, non-causal bandpass filter:\n",
      "- Windowed time-domain design (firwin) method\n",
      "- Hamming window with 0.0194 passband ripple and 53 dB stopband attenuation\n",
      "- Lower passband edge: 1.00\n",
      "- Lower transition bandwidth: 1.00 Hz (-6 dB cutoff frequency: 0.50 Hz)\n",
      "- Upper passband edge: 40.00 Hz\n",
      "- Upper transition bandwidth: 10.00 Hz (-6 dB cutoff frequency: 45.00 Hz)\n",
      "- Filter length: 1651 samples (3.302 sec)\n",
      "\n"
     ]
    },
    {
     "name": "stderr",
     "output_type": "stream",
     "text": [
      "100%|█████████████████████████████████████████████████████████████████████████| 3/3 [00:01<00:00,  2.38it/s]\n"
     ]
    }
   ],
   "source": [
    "# iterate through all files and create preprocessed dataframes\n",
    "df = pd.DataFrame()\n",
    "for basename in tqdm(basenames):\n",
    "    raw = read_raw_bids(bids_path=basename, verbose=False)\n",
    "    raw.load_data()\n",
    "    raw = raw.filter(1,40)\n",
    "    raw = raw.resample(100, npad=\"auto\") \n",
    "    raw_data = raw.get_data()\n",
    "    df1 = pd.DataFrame(raw_data)\n",
    "    df = pd.concat([df, df1], sort=True)"
   ]
  },
  {
   "cell_type": "code",
   "execution_count": 20,
   "id": "a0e3812d-f5a0-4f89-b6b8-5b3bfd4dde2a",
   "metadata": {},
   "outputs": [],
   "source": [
    "basenames = []\n",
    "bids_path.match()[8].basename[-4:] == 'vhdr'\n",
    "basenames.append(bids_path.match()[8])"
   ]
  },
  {
   "cell_type": "code",
   "execution_count": 69,
   "id": "6f0abb4e-62fb-4676-8743-71c41c55950c",
   "metadata": {},
   "outputs": [
    {
     "name": "stdout",
     "output_type": "stream",
     "text": [
      "{'his_id': 'sub-01', 'age': 'n/a', 'sex': 1, 'Height': '178', 'Weight': '58', 'SAS_1stVisit': '30', 'SDS_1stVisit': '38', 'ESS_1stVisit': '5', 'SAS_2ndVisit': '33', 'SDS_2ndVisit': '35', 'ESS_2ndVisit': '3', '(1)Discontinuity of Mind_session1': '5', '(2)Theory of Mind_session1': '8', '(3)Self_session1': '9', '(4)Planning_session1': '9', '(5)Sleepiness_session1': '1', '(6)Comfort_session1': '6', '(7)Somatic Awareness_session1': '5', '(8)Health Concern_session1': '10', '(9)Visual Thought_session1': '9', '(10)Verbal Thought_session1': '4', 'KSS_session1': '5', 'PANAS-P_session1': '32', 'PANAS-N_session1': '12', 'Subtraction_Correct/Not correct_session1': 'n/a', 'Subtraction_The final number_session1': 'n/a', 'Music Times of singing music lyrics_session1': 'n/a', 'Memory_Times of recall_session1': 'n/a', '(1) Discontinuity of Mind_session2': '1', '(2) Theory of Mind_session2': '9', '(3)Self_session2': '6', '(4)Planning_session2': '10', '(5)Sleepiness_session2': '1', '(6)Comfort_session2': '10', '(7)Somatic Awareness_session2': '6', '(8)Health Concern_session2': '8', '(9)Visual Thought_session2': '8', '(10)Verbal Thought_session2': '5', 'KSS_session2': '5', 'PANAS-P_session2': '30', 'PANAS-N_session2': '13', 'Subtraction_Correct/Not correct_session2': 'n/a', 'Subtraction_The final number_session2': 'n/a', 'Music_Times of singing music lyrics_session2': 'n/a', 'Memory_Times of recall_session2': 'n/a', '(1)Discontinuity of Mind_session3': '6', '(2)Theory of Mind_session3': '8', '(3)Self_session3': '9', '(4)Planning_session3': '8', '(5)Sleepiness_session3': '0', '(6)Comfort_session3': '9', '(7)Somatic Awareness_session3': '7', '(8)Health Concern_session3': '9', '(9)Visual Thought_session3': '12', '(10)Verbal Thought_session3': '4', 'KSS_session3': '3', 'PANAS-P_session3': '33', 'PANAS-N_session3': '11', 'Subtraction_Correct/Not correct_session3': '1', 'Subtraction_The final number_session3': '4510', 'Music_Times of singing music lyrics_session3': '2', 'Memory_Times of recall_session3': '1', ' Mini_Item1_EO1': '7', ' Mini_Item2_EO1': '0', ' Mini_Item3_EO1': '7', ' Mini_Item4_EO1': '5', ' Mini_Item5_EO1': '7', ' Mini_Item6_EO1': '5', ' Mini_Item7_EO1': '6', ' Mini_Item8_EO1': '4', ' Mini_Item9_EO1': '5', ' Mini_Item10_EO1': '4', ' Mini_Item11_EO1': '3', ' Mini_Item12_EO1': '1', ' Mini_Item1_EC1': '5', ' Mini_Item2_EC1': '6', ' Mini_Item3_EC1': '8', ' Mini_Item4_EC1': '6', ' Mini_Item5_EC1': '8', ' Mini_Item6_EC1': '7', ' Mini_Item7_EC1': '3', ' Mini_Item8_EC1': '7', ' Mini_Item9_EC1': '8', ' Mini_Item10_EC1': '4', ' Mini_Item11_EC1': '2', ' Mini_Item12_EC1': '4', ' Mini_Item1_Music1': '8', ' Mini_Item2_Music1': '0', ' Mini_Item3_Music1': '3', ' Mini_Item4_Music1': '8', ' Mini_Item5_Music1': '5', ' Mini_Item6_Music1': '8', ' Mini_Item7_Music1': '0', ' Mini_Item8_Music1': '7', ' Mini_Item9_Music1': '9', ' Mini_Item10_Music1': '0', ' Mini_Item11_Music1': '0', ' Mini_Item12_Music1': '0', ' Mini_Item1_Memory1': '8', ' Mini_Item2_Memory1': '2', ' Mini_Item3_Memory1': '0', ' Mini_Item4_Memory1': '10', ' Mini_Item5_Memory1': '8', ' Mini_Item6_Memory1': '8', ' Mini_Item7_Memory1': '0', ' Mini_Item8_Memory1': '5', ' Mini_Item9_Memory1': '9', ' Mini_Item10_Memory1': '5', ' Mini_Item11_Memory1': '8', ' Mini_Item12_Memory1': '0', ' Mini_Item1_Subtraction1 ': '5', ' Mini_Item2_Subtraction1': '0', ' Mini_Item3_Subtraction1': '0', ' Mini_Item4_Subtraction1': '0', ' Mini_Item5_Subtraction1': '0', ' Mini_Item6_Subtraction1': '0', ' Mini_Item7_Subtraction1': '0', ' Mini_Item8_Subtraction1': '4', ' Mini_Item9_Subtraction1': '4', ' Mini_Item10_Subtraction1': '8', ' Mini_Item11_Subtraction1': '8', ' Mini_Item12_Subtraction1': '0', ' Mini_Item1_EO2': '6', ' Mini_Item2_EO2': '0', ' Mini_Item3_EO2': '7', ' Mini_Item4_EO2': '6', ' Mini_Item5_EO2': '5', ' Mini_Item6_EO2': '6', ' Mini_Item7_EO2': '5', ' Mini_Item8_EO2': '5', ' Mini_Item9_EO2': '6', ' Mini_Item10_EO2': '2', ' Mini_Item11_EO2': '5', ' Mini_Item12_EO2': '2', ' Mini_Item1_EC2': '7', ' Mini_Item2_EC2': '0', ' Mini_Item3_EC2': '8', ' Mini_Item4_EC2': '0', ' Mini_Item5_EC2': '6', ' Mini_Item6_EC2': '6', ' Mini_Item7_EC2': '0', ' Mini_Item8_EC2': '7', ' Mini_Item9_EC2': '7', ' Mini_Item10_EC2': '7', ' Mini_Item11_EC2': '6', ' Mini_Item12_EC2': '1', ' Mini_Item1_Music2': '6', ' Mini_Item2_Music2': '0', ' Mini_Item3_Music2': '0', ' Mini_Item4_Music2': '0', ' Mini_Item5_Music2': '2', ' Mini_Item6_Music2': '7', ' Mini_Item7_Music2': '0', ' Mini_Item8_Music2': '8', ' Mini_Item9_Music2': '7', ' Mini_Item10_Music2': '6', ' Mini_Item11_Music2': '7', ' Mini_Item12_Music2': '0', ' Mini_Item1_Memory2': '0', ' Mini_Item2_Memory2': '0', ' Mini_Item3_Memory2': '0', ' Mini_Item4_Memory2': '0', ' Mini_Item5_Memory2': '0', ' Mini_Item6_Memory2': '0', ' Mini_Item7_Memory2': '0', ' Mini_Item8_Memory2': '6', ' Mini_Item9_Memory2': '6', ' Mini_Item10_Memory2': '7', ' Mini_Item11_Memory2': '7', ' Mini_Item12_Memory2': '0', ' Mini_Item1_Subtraction2 ': '2', ' Mini_Item2_Subtraction2': '0', ' Mini_Item3_Subtraction2': '6', ' Mini_Item4_Subtraction2': '2', ' Mini_Item5_Subtraction2': '7', ' Mini_Item6_Subtraction2': '0', ' Mini_Item7_Subtraction2': '0', ' Mini_Item8_Subtraction2': '7', ' Mini_Item9_Subtraction2': '5', ' Mini_Item10_Subtraction2': '5', ' Mini_Item11_Subtraction2': '1', ' Mini_Item12_Subtraction2': '0', ' Mini_Item1_EO3': '7', ' Mini_Item2_EO3': '0', ' Mini_Item3_EO3': '5', ' Mini_Item4_EO3': '0', ' Mini_Item5_EO3': '6', ' Mini_Item6_EO3': '8', ' Mini_Item7_EO3': '7', ' Mini_Item8_EO3': '10', ' Mini_Item9_EO3': '8', ' Mini_Item10_EO3': '5', ' Mini_Item11_EO3': '0', ' Mini_Item12_EO3': '0', ' Mini_Item1_EC3': '0', ' Mini_Item2_EC3': '0', ' Mini_Item3_EC3': '0', ' Mini_Item4_EC3': '0', ' Mini_Item5_EC3': '0', ' Mini_Item6_EC3': '1', ' Mini_Item7_EC3': '0', ' Mini_Item8_EC3': '10', ' Mini_Item9_EC3': '6', ' Mini_Item10_EC3': '10', ' Mini_Item11_EC3': '0', ' Mini_Item12_EC3': '0', ' Mini_Item1_Music3': '7', ' Mini_Item2_Music3': '0', ' Mini_Item3_Music3': '6', ' Mini_Item4_Music3': '10', ' Mini_Item5_Music3': '10', ' Mini_Item6_Music3': '8', ' Mini_Item7_Music3': '6', ' Mini_Item8_Music3': '10', ' Mini_Item9_Music3': '9', ' Mini_Item10_Music3': '5', ' Mini_Item11_Music3': '0', ' Mini_Item12_Music3': '3', ' Mini_Item1_Memory3': ' ', ' Mini_Item2_Memory3': ' ', ' Mini_Item3_Memory3': ' ', ' Mini_Item4_Memory3': ' ', ' Mini_Item5_Memory3': ' ', ' Mini_Item6_Memory3': ' ', ' Mini_Item7_Memory3': ' ', ' Mini_Item8_Memory3': ' ', ' Mini_Item9_Memory3': ' ', ' Mini_Item10_Memory3': ' ', ' Mini_Item11_Memory3': ' ', ' Mini_Item12_Memory3': ' ', ' Mini_Item1_Subtraction3 ': '9', ' Mini_Item2_Subtraction3': '0', ' Mini_Item3_Subtraction3': '0', ' Mini_Item4_Subtraction3': '9', ' Mini_Item5_Subtraction3': '7', ' Mini_Item6_Subtraction3': '8', ' Mini_Item7_Subtraction3': '6', ' Mini_Item8_Subtraction3': '9', ' Mini_Item9_Subtraction3': '8', ' Mini_Item10_Subtraction3': '6', ' Mini_Item11_Subtraction3': '0', ' Mini_Item12_Subtraction3': '0'}\n"
     ]
    }
   ],
   "source": [
    "print(raw.info['subject_info'])"
   ]
  },
  {
   "cell_type": "code",
   "execution_count": 70,
   "id": "5f72b6b0-0deb-4070-8383-142bf926cd28",
   "metadata": {},
   "outputs": [
    {
     "name": "stdout",
     "output_type": "stream",
     "text": [
      "50.0\n"
     ]
    }
   ],
   "source": [
    "print(raw.info['line_freq'])"
   ]
  },
  {
   "cell_type": "code",
   "execution_count": 71,
   "id": "3baa5a67-0de6-456d-a915-bbebd81af349",
   "metadata": {},
   "outputs": [
    {
     "name": "stdout",
     "output_type": "stream",
     "text": [
      "100.0\n"
     ]
    }
   ],
   "source": [
    "print(raw.info['sfreq'])"
   ]
  },
  {
   "cell_type": "code",
   "execution_count": 13,
   "id": "587ef560-1f9b-4c8b-9df2-130fcd250895",
   "metadata": {},
   "outputs": [
    {
     "name": "stdout",
     "output_type": "stream",
     "text": [
      "Opening raw-browser...\n",
      "Using pyopengl with version 3.1.6\n",
      "Closing raw-browser...\n",
      "Channels marked as bad:\n",
      "none\n"
     ]
    },
    {
     "data": {
      "text/plain": [
       "<mne_qt_browser._pg_figure.PyQtGraphBrowser at 0x15510fe50>"
      ]
     },
     "execution_count": 13,
     "metadata": {},
     "output_type": "execute_result"
    }
   ],
   "source": [
    "raw.plot(block=True)"
   ]
  },
  {
   "cell_type": "code",
   "execution_count": null,
   "id": "4c46973d-5532-42ad-a7a5-994d503500cf",
   "metadata": {},
   "outputs": [],
   "source": []
  }
 ],
 "metadata": {
  "kernelspec": {
   "display_name": "Python 3.9.10 ('mne')",
   "language": "python",
   "name": "python3910jvsc74a57bd02b1d6308bfd9635885be6fe48711a065abef7f3c76b9233baaccfdc468997ac7"
  },
  "language_info": {
   "codemirror_mode": {
    "name": "ipython",
    "version": 3
   },
   "file_extension": ".py",
   "mimetype": "text/x-python",
   "name": "python",
   "nbconvert_exporter": "python",
   "pygments_lexer": "ipython3",
   "version": "3.9.10"
  }
 },
 "nbformat": 4,
 "nbformat_minor": 5
}
