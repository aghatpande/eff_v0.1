{
 "cells": [
  {
   "cell_type": "markdown",
   "id": "9a095b54-bb91-4234-bdc6-1141b7f140f7",
   "metadata": {},
   "source": [
    "#  The dataset is located at openneuro.org and its OpenNeuro Accession Number: ds003685 Files: 5398 Size: 30.52GB"
   ]
  },
  {
   "cell_type": "markdown",
   "id": "3fb1f694-771e-497e-991d-8069895ca03c",
   "metadata": {},
   "source": [
    "## Installations:\n",
    "If handling EEG / brain -imaging data for the first time. Create a separate conda environment on your machine and install some specialized modules"
   ]
  },
  {
   "cell_type": "markdown",
   "id": "6d57fded-837d-4f8e-851d-c25b47dfc751",
   "metadata": {},
   "source": [
    "### Install mne_bids and mne in one shot:\n",
    "    conda create --name mne --channel conda-forge mne-bids"
   ]
  },
  {
   "cell_type": "markdown",
   "id": "c4c267f7-5053-4cf8-bc94-1a0134fb4ee3",
   "metadata": {},
   "source": [
    "### Alternatively,install mne-python first, \n",
    "conda create --name=mne --channel=conda-forge mne\n",
    "\n",
    "details here: https://mne.tools/stable/index.html\n",
    "\n",
    "mne-python is the most popular open source tool for EEG. It is quite mature, allows for good interactive visualization of brain imaging data including EEG\n",
    "If using an M1 mac, be mindful of arm64 specific environment; if planning to use built-in GPU for keras / tensorflow DL"
   ]
  },
  {
   "cell_type": "markdown",
   "id": "2324d736-c3b3-489e-965e-662013214a8f",
   "metadata": {},
   "source": [
    "### install openneuro.py:\n",
    "pip install openneuro-py"
   ]
  },
  {
   "cell_type": "markdown",
   "id": "2fef6137-566e-484f-b479-777790927c9b",
   "metadata": {},
   "source": [
    "## Exploring ds03685 dataset with mne_bids"
   ]
  },
  {
   "cell_type": "code",
   "execution_count": 103,
   "id": "6f565bce-8f25-4cdf-b036-729c8ae7990c",
   "metadata": {},
   "outputs": [],
   "source": [
    "import os\n",
    "import os.path as op\n",
    "import openneuro\n",
    "import mne\n",
    "import matplotlib.pyplot as plt\n",
    "from mne.datasets import sample\n",
    "from mne_bids import BIDSPath, read_raw_bids, print_dir_tree, make_report\n",
    "import pandas as pd\n",
    "from tqdm import tqdm"
   ]
  },
  {
   "cell_type": "code",
   "execution_count": 108,
   "id": "6a6e11a0-fd0c-4795-b801-a5c64621b96b",
   "metadata": {},
   "outputs": [],
   "source": [
    "# .. note: If the keyword argument include is left out of\n",
    "#          ``openneuro.download``, the whole dataset will be downloaded.\n",
    "#          We're just using data from one subject to reduce the time\n",
    "#          it takes to run the example.\n",
    "\n",
    "dataset = 'ds003685'\n",
    "subject = '10'\n",
    "bids_root = op.join(op.dirname(sample.data_path()), dataset)\n",
    "if not op.isdir(bids_root):\n",
    "    os.makedirs(bids_root)"
   ]
  },
  {
   "cell_type": "code",
   "execution_count": 109,
   "id": "bb0400dc-92eb-4898-ae33-81096f8cc7b4",
   "metadata": {},
   "outputs": [
    {
     "name": "stdout",
     "output_type": "stream",
     "text": [
      "\n",
      "👋 Hello! This is openneuro-py 2022.1.0. Great to see you! 🤗\n",
      "\n",
      "   👉 Please report problems 🤯 and bugs 🪲 at\n",
      "      https://github.com/hoechenberger/openneuro-py/issues\n",
      "\n",
      "🌍 Preparing to download ds003685 …\n",
      "👉 Retrieving up to 94 files (5 concurrent downloads).\n",
      "✅ Finished downloading ds003685.\n",
      "\n",
      "🧠 Please enjoy your brains.\n",
      "\n"
     ]
    },
    {
     "data": {
      "application/vnd.jupyter.widget-view+json": {
       "model_id": "",
       "version_major": 2,
       "version_minor": 0
      },
      "text/plain": [
       "Skipping README: already downloaded.: 100%|##########| 891/891 [00:00<?, ?B/s]"
      ]
     },
     "metadata": {},
     "output_type": "display_data"
    },
    {
     "data": {
      "application/vnd.jupyter.widget-view+json": {
       "model_id": "",
       "version_major": 2,
       "version_minor": 0
      },
      "text/plain": [
       "Re-downloading CHANGES: file size mismatch.: 0.00B [00:00, ?B/s]"
      ]
     },
     "metadata": {},
     "output_type": "display_data"
    },
    {
     "data": {
      "application/vnd.jupyter.widget-view+json": {
       "model_id": "",
       "version_major": 2,
       "version_minor": 0
      },
      "text/plain": [
       "Re-downloading participants.tsv: file size mismatch.: 0.00B [00:00, ?B/s]"
      ]
     },
     "metadata": {},
     "output_type": "display_data"
    },
    {
     "data": {
      "application/vnd.jupyter.widget-view+json": {
       "model_id": "",
       "version_major": 2,
       "version_minor": 0
      },
      "text/plain": [
       "Re-downloading dataset_description.json: file size mismatch.: 0.00B [00:00, ?B/s]"
      ]
     },
     "metadata": {},
     "output_type": "display_data"
    },
    {
     "data": {
      "application/vnd.jupyter.widget-view+json": {
       "model_id": "",
       "version_major": 2,
       "version_minor": 0
      },
      "text/plain": [
       "Re-downloading sub-10_ses-session1_task-eyesclosed_run-1_channels.tsv: file size mismatch.: 0.00B [00:00, ?B/s…"
      ]
     },
     "metadata": {},
     "output_type": "display_data"
    },
    {
     "data": {
      "application/vnd.jupyter.widget-view+json": {
       "model_id": "",
       "version_major": 2,
       "version_minor": 0
      },
      "text/plain": [
       "Re-downloading sub-10_ses-session1_task-eyesclosed_run-1_eeg.json: file size mismatch.: 0.00B [00:00, ?B/s]"
      ]
     },
     "metadata": {},
     "output_type": "display_data"
    },
    {
     "data": {
      "application/vnd.jupyter.widget-view+json": {
       "model_id": "",
       "version_major": 2,
       "version_minor": 0
      },
      "text/plain": [
       "Re-downloading sub-10_ses-session1_task-memory_run-4_eeg.json: file size mismatch.: 0.00B [00:00, ?B/s]"
      ]
     },
     "metadata": {},
     "output_type": "display_data"
    },
    {
     "data": {
      "application/vnd.jupyter.widget-view+json": {
       "model_id": "",
       "version_major": 2,
       "version_minor": 0
      },
      "text/plain": [
       "Re-downloading sub-10_ses-session1_task-mathematic_run-3_events.tsv: file size mismatch.: 0.00B [00:00, ?B/s]"
      ]
     },
     "metadata": {},
     "output_type": "display_data"
    },
    {
     "data": {
      "application/vnd.jupyter.widget-view+json": {
       "model_id": "",
       "version_major": 2,
       "version_minor": 0
      },
      "text/plain": [
       "Re-downloading sub-10_ses-session1_task-memory_run-4_channels.tsv: file size mismatch.: 0.00B [00:00, ?B/s]"
      ]
     },
     "metadata": {},
     "output_type": "display_data"
    },
    {
     "data": {
      "application/vnd.jupyter.widget-view+json": {
       "model_id": "",
       "version_major": 2,
       "version_minor": 0
      },
      "text/plain": [
       "Re-downloading sub-10_ses-session1_task-mathematic_run-3_eeg.json: file size mismatch.: 0.00B [00:00, ?B/s]"
      ]
     },
     "metadata": {},
     "output_type": "display_data"
    },
    {
     "data": {
      "application/vnd.jupyter.widget-view+json": {
       "model_id": "",
       "version_major": 2,
       "version_minor": 0
      },
      "text/plain": [
       "Re-downloading sub-10_ses-session1_task-memory_run-4_events.tsv: file size mismatch.: 0.00B [00:00, ?B/s]"
      ]
     },
     "metadata": {},
     "output_type": "display_data"
    },
    {
     "data": {
      "application/vnd.jupyter.widget-view+json": {
       "model_id": "",
       "version_major": 2,
       "version_minor": 0
      },
      "text/plain": [
       "Re-downloading sub-10_ses-session2_task-eyesopen_run-2_channels.tsv: file size mismatch.: 0.00B [00:00, ?B/s]"
      ]
     },
     "metadata": {},
     "output_type": "display_data"
    },
    {
     "data": {
      "application/vnd.jupyter.widget-view+json": {
       "model_id": "",
       "version_major": 2,
       "version_minor": 0
      },
      "text/plain": [
       "Re-downloading sub-10_ses-session2_task-eyesclosed_run-1_events.tsv: file size mismatch.: 0.00B [00:00, ?B/s]"
      ]
     },
     "metadata": {},
     "output_type": "display_data"
    },
    {
     "data": {
      "application/vnd.jupyter.widget-view+json": {
       "model_id": "",
       "version_major": 2,
       "version_minor": 0
      },
      "text/plain": [
       "Re-downloading sub-10_ses-session2_task-eyesopen_run-2_events.tsv: file size mismatch.: 0.00B [00:00, ?B/s]"
      ]
     },
     "metadata": {},
     "output_type": "display_data"
    },
    {
     "data": {
      "application/vnd.jupyter.widget-view+json": {
       "model_id": "",
       "version_major": 2,
       "version_minor": 0
      },
      "text/plain": [
       "Re-downloading sub-10_ses-session2_task-eyesopen_run-2_eeg.json: file size mismatch.: 0.00B [00:00, ?B/s]"
      ]
     },
     "metadata": {},
     "output_type": "display_data"
    },
    {
     "data": {
      "application/vnd.jupyter.widget-view+json": {
       "model_id": "",
       "version_major": 2,
       "version_minor": 0
      },
      "text/plain": [
       "Re-downloading sub-10_ses-session2_task-mathematic_run-3_channels.tsv: file size mismatch.: 0.00B [00:00, ?B/s…"
      ]
     },
     "metadata": {},
     "output_type": "display_data"
    },
    {
     "data": {
      "application/vnd.jupyter.widget-view+json": {
       "model_id": "",
       "version_major": 2,
       "version_minor": 0
      },
      "text/plain": [
       "Re-downloading sub-10_ses-session3_task-eyesclosed_run-1_channels.tsv: file size mismatch.: 0.00B [00:00, ?B/s…"
      ]
     },
     "metadata": {},
     "output_type": "display_data"
    },
    {
     "data": {
      "application/vnd.jupyter.widget-view+json": {
       "model_id": "",
       "version_major": 2,
       "version_minor": 0
      },
      "text/plain": [
       "Re-downloading sub-10_ses-session3_task-eyesclosed_run-1_eeg.json: file size mismatch.: 0.00B [00:00, ?B/s]"
      ]
     },
     "metadata": {},
     "output_type": "display_data"
    },
    {
     "data": {
      "application/vnd.jupyter.widget-view+json": {
       "model_id": "",
       "version_major": 2,
       "version_minor": 0
      },
      "text/plain": [
       "Re-downloading sub-10_ses-session2_task-music_run-5_events.tsv: file size mismatch.: 0.00B [00:00, ?B/s]"
      ]
     },
     "metadata": {},
     "output_type": "display_data"
    },
    {
     "data": {
      "application/vnd.jupyter.widget-view+json": {
       "model_id": "",
       "version_major": 2,
       "version_minor": 0
      },
      "text/plain": [
       "Re-downloading sub-10_ses-session2_task-music_run-5_channels.tsv: file size mismatch.: 0.00B [00:00, ?B/s]"
      ]
     },
     "metadata": {},
     "output_type": "display_data"
    },
    {
     "data": {
      "application/vnd.jupyter.widget-view+json": {
       "model_id": "",
       "version_major": 2,
       "version_minor": 0
      },
      "text/plain": [
       "Re-downloading sub-10_ses-session2_task-music_run-5_eeg.json: file size mismatch.: 0.00B [00:00, ?B/s]"
      ]
     },
     "metadata": {},
     "output_type": "display_data"
    },
    {
     "data": {
      "application/vnd.jupyter.widget-view+json": {
       "model_id": "",
       "version_major": 2,
       "version_minor": 0
      },
      "text/plain": [
       "Re-downloading sub-10_ses-session3_task-mathematic_run-3_eeg.json: file size mismatch.: 0.00B [00:00, ?B/s]"
      ]
     },
     "metadata": {},
     "output_type": "display_data"
    },
    {
     "data": {
      "application/vnd.jupyter.widget-view+json": {
       "model_id": "",
       "version_major": 2,
       "version_minor": 0
      },
      "text/plain": [
       "Re-downloading sub-10_ses-session3_task-mathematic_run-3_events.tsv: file size mismatch.: 0.00B [00:00, ?B/s]"
      ]
     },
     "metadata": {},
     "output_type": "display_data"
    },
    {
     "data": {
      "application/vnd.jupyter.widget-view+json": {
       "model_id": "",
       "version_major": 2,
       "version_minor": 0
      },
      "text/plain": [
       "Re-downloading sub-10_ses-session3_task-memory_run-4_eeg.json: file size mismatch.: 0.00B [00:00, ?B/s]"
      ]
     },
     "metadata": {},
     "output_type": "display_data"
    },
    {
     "data": {
      "application/vnd.jupyter.widget-view+json": {
       "model_id": "",
       "version_major": 2,
       "version_minor": 0
      },
      "text/plain": [
       "Re-downloading sub-10_ses-session3_task-memory_run-4_channels.tsv: file size mismatch.: 0.00B [00:00, ?B/s]"
      ]
     },
     "metadata": {},
     "output_type": "display_data"
    },
    {
     "data": {
      "application/vnd.jupyter.widget-view+json": {
       "model_id": "",
       "version_major": 2,
       "version_minor": 0
      },
      "text/plain": [
       "Re-downloading sub-10_ses-session3_task-memory_run-4_events.tsv: file size mismatch.: 0.00B [00:00, ?B/s]"
      ]
     },
     "metadata": {},
     "output_type": "display_data"
    },
    {
     "data": {
      "application/vnd.jupyter.widget-view+json": {
       "model_id": "",
       "version_major": 2,
       "version_minor": 0
      },
      "text/plain": [
       "Re-downloading sub-10_ses-session1_task-mathematic_run-3_eeg.eeg: file size mismatch.: 0.00B [00:00, ?B/s]"
      ]
     },
     "metadata": {},
     "output_type": "display_data"
    },
    {
     "data": {
      "application/vnd.jupyter.widget-view+json": {
       "model_id": "",
       "version_major": 2,
       "version_minor": 0
      },
      "text/plain": [
       "Re-downloading sub-10_ses-session1_task-eyesopen_run-2_eeg.vmrk: file size mismatch.: 0.00B [00:00, ?B/s]"
      ]
     },
     "metadata": {},
     "output_type": "display_data"
    },
    {
     "data": {
      "application/vnd.jupyter.widget-view+json": {
       "model_id": "",
       "version_major": 2,
       "version_minor": 0
      },
      "text/plain": [
       "Re-downloading sub-10_ses-session1_task-eyesclosed_run-1_eeg.vmrk: file size mismatch.: 0.00B [00:00, ?B/s]"
      ]
     },
     "metadata": {},
     "output_type": "display_data"
    },
    {
     "data": {
      "application/vnd.jupyter.widget-view+json": {
       "model_id": "",
       "version_major": 2,
       "version_minor": 0
      },
      "text/plain": [
       "Re-downloading sub-10_ses-session1_task-eyesopen_run-2_eeg.vhdr: file size mismatch.: 0.00B [00:00, ?B/s]"
      ]
     },
     "metadata": {},
     "output_type": "display_data"
    },
    {
     "data": {
      "application/vnd.jupyter.widget-view+json": {
       "model_id": "",
       "version_major": 2,
       "version_minor": 0
      },
      "text/plain": [
       "Re-downloading sub-10_ses-session1_task-eyesopen_run-2_eeg.eeg: file size mismatch.: 0.00B [00:00, ?B/s]"
      ]
     },
     "metadata": {},
     "output_type": "display_data"
    },
    {
     "data": {
      "application/vnd.jupyter.widget-view+json": {
       "model_id": "",
       "version_major": 2,
       "version_minor": 0
      },
      "text/plain": [
       "Re-downloading sub-10_ses-session1_task-memory_run-4_eeg.vmrk: file size mismatch.: 0.00B [00:00, ?B/s]"
      ]
     },
     "metadata": {},
     "output_type": "display_data"
    },
    {
     "data": {
      "application/vnd.jupyter.widget-view+json": {
       "model_id": "",
       "version_major": 2,
       "version_minor": 0
      },
      "text/plain": [
       "Re-downloading sub-10_ses-session1_task-music_run-5_eeg.vmrk: file size mismatch.: 0.00B [00:00, ?B/s]"
      ]
     },
     "metadata": {},
     "output_type": "display_data"
    },
    {
     "data": {
      "application/vnd.jupyter.widget-view+json": {
       "model_id": "",
       "version_major": 2,
       "version_minor": 0
      },
      "text/plain": [
       "Re-downloading sub-10_ses-session1_task-music_run-5_eeg.eeg: file size mismatch.: 0.00B [00:00, ?B/s]"
      ]
     },
     "metadata": {},
     "output_type": "display_data"
    },
    {
     "data": {
      "application/vnd.jupyter.widget-view+json": {
       "model_id": "",
       "version_major": 2,
       "version_minor": 0
      },
      "text/plain": [
       "Re-downloading sub-10_ses-session2_task-eyesopen_run-2_eeg.eeg: file size mismatch.: 0.00B [00:00, ?B/s]"
      ]
     },
     "metadata": {},
     "output_type": "display_data"
    },
    {
     "data": {
      "application/vnd.jupyter.widget-view+json": {
       "model_id": "",
       "version_major": 2,
       "version_minor": 0
      },
      "text/plain": [
       "Re-downloading sub-10_ses-session2_task-eyesopen_run-2_eeg.vhdr: file size mismatch.: 0.00B [00:00, ?B/s]"
      ]
     },
     "metadata": {},
     "output_type": "display_data"
    },
    {
     "data": {
      "application/vnd.jupyter.widget-view+json": {
       "model_id": "",
       "version_major": 2,
       "version_minor": 0
      },
      "text/plain": [
       "Re-downloading sub-10_ses-session2_task-mathematic_run-3_eeg.vhdr: file size mismatch.: 0.00B [00:00, ?B/s]"
      ]
     },
     "metadata": {},
     "output_type": "display_data"
    },
    {
     "data": {
      "application/vnd.jupyter.widget-view+json": {
       "model_id": "",
       "version_major": 2,
       "version_minor": 0
      },
      "text/plain": [
       "Re-downloading sub-10_ses-session2_task-memory_run-4_eeg.eeg: file size mismatch.: 0.00B [00:00, ?B/s]"
      ]
     },
     "metadata": {},
     "output_type": "display_data"
    },
    {
     "data": {
      "application/vnd.jupyter.widget-view+json": {
       "model_id": "",
       "version_major": 2,
       "version_minor": 0
      },
      "text/plain": [
       "Re-downloading sub-10_ses-session2_task-music_run-5_eeg.eeg: file size mismatch.: 0.00B [00:00, ?B/s]"
      ]
     },
     "metadata": {},
     "output_type": "display_data"
    },
    {
     "data": {
      "application/vnd.jupyter.widget-view+json": {
       "model_id": "",
       "version_major": 2,
       "version_minor": 0
      },
      "text/plain": [
       "Re-downloading sub-10_ses-session2_task-memory_run-4_eeg.vmrk: file size mismatch.: 0.00B [00:00, ?B/s]"
      ]
     },
     "metadata": {},
     "output_type": "display_data"
    },
    {
     "data": {
      "application/vnd.jupyter.widget-view+json": {
       "model_id": "",
       "version_major": 2,
       "version_minor": 0
      },
      "text/plain": [
       "Re-downloading sub-10_ses-session3_task-eyesclosed_run-1_eeg.vhdr: file size mismatch.: 0.00B [00:00, ?B/s]"
      ]
     },
     "metadata": {},
     "output_type": "display_data"
    },
    {
     "data": {
      "application/vnd.jupyter.widget-view+json": {
       "model_id": "",
       "version_major": 2,
       "version_minor": 0
      },
      "text/plain": [
       "Re-downloading sub-10_ses-session3_task-eyesopen_run-2_eeg.eeg: file size mismatch.: 0.00B [00:00, ?B/s]"
      ]
     },
     "metadata": {},
     "output_type": "display_data"
    },
    {
     "data": {
      "application/vnd.jupyter.widget-view+json": {
       "model_id": "",
       "version_major": 2,
       "version_minor": 0
      },
      "text/plain": [
       "Re-downloading sub-10_ses-session3_task-eyesclosed_run-1_eeg.eeg: file size mismatch.: 0.00B [00:00, ?B/s]"
      ]
     },
     "metadata": {},
     "output_type": "display_data"
    },
    {
     "data": {
      "application/vnd.jupyter.widget-view+json": {
       "model_id": "",
       "version_major": 2,
       "version_minor": 0
      },
      "text/plain": [
       "Re-downloading sub-10_ses-session3_task-mathematic_run-3_eeg.eeg: file size mismatch.: 0.00B [00:00, ?B/s]"
      ]
     },
     "metadata": {},
     "output_type": "display_data"
    },
    {
     "data": {
      "application/vnd.jupyter.widget-view+json": {
       "model_id": "",
       "version_major": 2,
       "version_minor": 0
      },
      "text/plain": [
       "Re-downloading sub-10_ses-session3_task-mathematic_run-3_eeg.vmrk: file size mismatch.: 0.00B [00:00, ?B/s]"
      ]
     },
     "metadata": {},
     "output_type": "display_data"
    },
    {
     "data": {
      "application/vnd.jupyter.widget-view+json": {
       "model_id": "",
       "version_major": 2,
       "version_minor": 0
      },
      "text/plain": [
       "Re-downloading sub-10_ses-session3_task-memory_run-4_eeg.vhdr: file size mismatch.: 0.00B [00:00, ?B/s]"
      ]
     },
     "metadata": {},
     "output_type": "display_data"
    },
    {
     "data": {
      "application/vnd.jupyter.widget-view+json": {
       "model_id": "",
       "version_major": 2,
       "version_minor": 0
      },
      "text/plain": [
       "Re-downloading sub-10_ses-session3_task-music_run-5_eeg.eeg: file size mismatch.: 0.00B [00:00, ?B/s]"
      ]
     },
     "metadata": {},
     "output_type": "display_data"
    },
    {
     "data": {
      "application/vnd.jupyter.widget-view+json": {
       "model_id": "",
       "version_major": 2,
       "version_minor": 0
      },
      "text/plain": [
       "Re-downloading sub-10_ses-session3_task-music_run-5_eeg.vmrk: file size mismatch.: 0.00B [00:00, ?B/s]"
      ]
     },
     "metadata": {},
     "output_type": "display_data"
    },
    {
     "data": {
      "application/vnd.jupyter.widget-view+json": {
       "model_id": "",
       "version_major": 2,
       "version_minor": 0
      },
      "text/plain": [
       "Re-downloading sub-10_ses-session1_task-eyesopen_run-2_channels.tsv: file size mismatch.: 0.00B [00:00, ?B/s]"
      ]
     },
     "metadata": {},
     "output_type": "display_data"
    },
    {
     "data": {
      "application/vnd.jupyter.widget-view+json": {
       "model_id": "",
       "version_major": 2,
       "version_minor": 0
      },
      "text/plain": [
       "Re-downloading sub-10_ses-session1_task-eyesopen_run-2_events.tsv: file size mismatch.: 0.00B [00:00, ?B/s]"
      ]
     },
     "metadata": {},
     "output_type": "display_data"
    },
    {
     "data": {
      "application/vnd.jupyter.widget-view+json": {
       "model_id": "",
       "version_major": 2,
       "version_minor": 0
      },
      "text/plain": [
       "Re-downloading sub-10_ses-session1_task-music_run-5_channels.tsv: file size mismatch.: 0.00B [00:00, ?B/s]"
      ]
     },
     "metadata": {},
     "output_type": "display_data"
    },
    {
     "data": {
      "application/vnd.jupyter.widget-view+json": {
       "model_id": "",
       "version_major": 2,
       "version_minor": 0
      },
      "text/plain": [
       "Re-downloading sub-10_ses-session1_task-music_run-5_events.tsv: file size mismatch.: 0.00B [00:00, ?B/s]"
      ]
     },
     "metadata": {},
     "output_type": "display_data"
    },
    {
     "data": {
      "application/vnd.jupyter.widget-view+json": {
       "model_id": "",
       "version_major": 2,
       "version_minor": 0
      },
      "text/plain": [
       "Re-downloading sub-10_ses-session2_task-eyesclosed_run-1_eeg.json: file size mismatch.: 0.00B [00:00, ?B/s]"
      ]
     },
     "metadata": {},
     "output_type": "display_data"
    },
    {
     "data": {
      "application/vnd.jupyter.widget-view+json": {
       "model_id": "",
       "version_major": 2,
       "version_minor": 0
      },
      "text/plain": [
       "Re-downloading sub-10_ses-session2_task-mathematic_run-3_events.tsv: file size mismatch.: 0.00B [00:00, ?B/s]"
      ]
     },
     "metadata": {},
     "output_type": "display_data"
    },
    {
     "data": {
      "application/vnd.jupyter.widget-view+json": {
       "model_id": "",
       "version_major": 2,
       "version_minor": 0
      },
      "text/plain": [
       "Re-downloading sub-10_ses-session2_task-memory_run-4_eeg.json: file size mismatch.: 0.00B [00:00, ?B/s]"
      ]
     },
     "metadata": {},
     "output_type": "display_data"
    },
    {
     "data": {
      "application/vnd.jupyter.widget-view+json": {
       "model_id": "",
       "version_major": 2,
       "version_minor": 0
      },
      "text/plain": [
       "Re-downloading sub-10_ses-session3_task-eyesclosed_run-1_events.tsv: file size mismatch.: 0.00B [00:00, ?B/s]"
      ]
     },
     "metadata": {},
     "output_type": "display_data"
    },
    {
     "data": {
      "application/vnd.jupyter.widget-view+json": {
       "model_id": "",
       "version_major": 2,
       "version_minor": 0
      },
      "text/plain": [
       "Re-downloading sub-10_ses-session3_task-eyesopen_run-2_eeg.json: file size mismatch.: 0.00B [00:00, ?B/s]"
      ]
     },
     "metadata": {},
     "output_type": "display_data"
    },
    {
     "data": {
      "application/vnd.jupyter.widget-view+json": {
       "model_id": "",
       "version_major": 2,
       "version_minor": 0
      },
      "text/plain": [
       "Re-downloading sub-10_ses-session3_task-mathematic_run-3_channels.tsv: file size mismatch.: 0.00B [00:00, ?B/s…"
      ]
     },
     "metadata": {},
     "output_type": "display_data"
    },
    {
     "data": {
      "application/vnd.jupyter.widget-view+json": {
       "model_id": "",
       "version_major": 2,
       "version_minor": 0
      },
      "text/plain": [
       "Re-downloading sub-10_ses-session3_task-music_run-5_eeg.json: file size mismatch.: 0.00B [00:00, ?B/s]"
      ]
     },
     "metadata": {},
     "output_type": "display_data"
    },
    {
     "data": {
      "application/vnd.jupyter.widget-view+json": {
       "model_id": "",
       "version_major": 2,
       "version_minor": 0
      },
      "text/plain": [
       "Re-downloading sub-10_ses-session1_task-eyesclosed_run-1_eeg.eeg: file size mismatch.: 0.00B [00:00, ?B/s]"
      ]
     },
     "metadata": {},
     "output_type": "display_data"
    },
    {
     "data": {
      "application/vnd.jupyter.widget-view+json": {
       "model_id": "",
       "version_major": 2,
       "version_minor": 0
      },
      "text/plain": [
       "Re-downloading sub-10_ses-session1_task-eyesclosed_run-1_eeg.vhdr: file size mismatch.: 0.00B [00:00, ?B/s]"
      ]
     },
     "metadata": {},
     "output_type": "display_data"
    },
    {
     "data": {
      "application/vnd.jupyter.widget-view+json": {
       "model_id": "",
       "version_major": 2,
       "version_minor": 0
      },
      "text/plain": [
       "Re-downloading sub-10_ses-session1_task-memory_run-4_eeg.vhdr: file size mismatch.: 0.00B [00:00, ?B/s]"
      ]
     },
     "metadata": {},
     "output_type": "display_data"
    },
    {
     "data": {
      "application/vnd.jupyter.widget-view+json": {
       "model_id": "",
       "version_major": 2,
       "version_minor": 0
      },
      "text/plain": [
       "Re-downloading sub-10_ses-session1_task-memory_run-4_eeg.eeg: file size mismatch.: 0.00B [00:00, ?B/s]"
      ]
     },
     "metadata": {},
     "output_type": "display_data"
    },
    {
     "data": {
      "application/vnd.jupyter.widget-view+json": {
       "model_id": "",
       "version_major": 2,
       "version_minor": 0
      },
      "text/plain": [
       "Re-downloading sub-10_ses-session2_task-eyesclosed_run-1_eeg.vhdr: file size mismatch.: 0.00B [00:00, ?B/s]"
      ]
     },
     "metadata": {},
     "output_type": "display_data"
    },
    {
     "data": {
      "application/vnd.jupyter.widget-view+json": {
       "model_id": "",
       "version_major": 2,
       "version_minor": 0
      },
      "text/plain": [
       "Re-downloading sub-10_ses-session2_task-eyesclosed_run-1_eeg.vmrk: file size mismatch.: 0.00B [00:00, ?B/s]"
      ]
     },
     "metadata": {},
     "output_type": "display_data"
    },
    {
     "data": {
      "application/vnd.jupyter.widget-view+json": {
       "model_id": "",
       "version_major": 2,
       "version_minor": 0
      },
      "text/plain": [
       "Re-downloading sub-10_ses-session2_task-memory_run-4_eeg.vhdr: file size mismatch.: 0.00B [00:00, ?B/s]"
      ]
     },
     "metadata": {},
     "output_type": "display_data"
    },
    {
     "data": {
      "application/vnd.jupyter.widget-view+json": {
       "model_id": "",
       "version_major": 2,
       "version_minor": 0
      },
      "text/plain": [
       "Re-downloading sub-10_ses-session2_task-mathematic_run-3_eeg.vmrk: file size mismatch.: 0.00B [00:00, ?B/s]"
      ]
     },
     "metadata": {},
     "output_type": "display_data"
    },
    {
     "data": {
      "application/vnd.jupyter.widget-view+json": {
       "model_id": "",
       "version_major": 2,
       "version_minor": 0
      },
      "text/plain": [
       "Re-downloading sub-10_ses-session3_task-eyesopen_run-2_eeg.vhdr: file size mismatch.: 0.00B [00:00, ?B/s]"
      ]
     },
     "metadata": {},
     "output_type": "display_data"
    },
    {
     "data": {
      "application/vnd.jupyter.widget-view+json": {
       "model_id": "",
       "version_major": 2,
       "version_minor": 0
      },
      "text/plain": [
       "Re-downloading sub-10_ses-session3_task-eyesclosed_run-1_eeg.vmrk: file size mismatch.: 0.00B [00:00, ?B/s]"
      ]
     },
     "metadata": {},
     "output_type": "display_data"
    },
    {
     "data": {
      "application/vnd.jupyter.widget-view+json": {
       "model_id": "",
       "version_major": 2,
       "version_minor": 0
      },
      "text/plain": [
       "Re-downloading sub-10_ses-session3_task-memory_run-4_eeg.vmrk: file size mismatch.: 0.00B [00:00, ?B/s]"
      ]
     },
     "metadata": {},
     "output_type": "display_data"
    },
    {
     "data": {
      "application/vnd.jupyter.widget-view+json": {
       "model_id": "",
       "version_major": 2,
       "version_minor": 0
      },
      "text/plain": [
       "Re-downloading sub-10_ses-session3_task-memory_run-4_eeg.eeg: file size mismatch.: 0.00B [00:00, ?B/s]"
      ]
     },
     "metadata": {},
     "output_type": "display_data"
    },
    {
     "data": {
      "application/vnd.jupyter.widget-view+json": {
       "model_id": "",
       "version_major": 2,
       "version_minor": 0
      },
      "text/plain": [
       "Re-downloading sub-10_ses-session1_task-eyesopen_run-2_eeg.json: file size mismatch.: 0.00B [00:00, ?B/s]"
      ]
     },
     "metadata": {},
     "output_type": "display_data"
    },
    {
     "data": {
      "application/vnd.jupyter.widget-view+json": {
       "model_id": "",
       "version_major": 2,
       "version_minor": 0
      },
      "text/plain": [
       "Re-downloading sub-10_ses-session1_task-music_run-5_eeg.json: file size mismatch.: 0.00B [00:00, ?B/s]"
      ]
     },
     "metadata": {},
     "output_type": "display_data"
    },
    {
     "data": {
      "application/vnd.jupyter.widget-view+json": {
       "model_id": "",
       "version_major": 2,
       "version_minor": 0
      },
      "text/plain": [
       "Re-downloading sub-10_ses-session2_task-eyesclosed_run-1_channels.tsv: file size mismatch.: 0.00B [00:00, ?B/s…"
      ]
     },
     "metadata": {},
     "output_type": "display_data"
    },
    {
     "data": {
      "application/vnd.jupyter.widget-view+json": {
       "model_id": "",
       "version_major": 2,
       "version_minor": 0
      },
      "text/plain": [
       "Re-downloading sub-10_ses-session2_task-memory_run-4_events.tsv: file size mismatch.: 0.00B [00:00, ?B/s]"
      ]
     },
     "metadata": {},
     "output_type": "display_data"
    },
    {
     "data": {
      "application/vnd.jupyter.widget-view+json": {
       "model_id": "",
       "version_major": 2,
       "version_minor": 0
      },
      "text/plain": [
       "Re-downloading sub-10_ses-session3_task-eyesopen_run-2_channels.tsv: file size mismatch.: 0.00B [00:00, ?B/s]"
      ]
     },
     "metadata": {},
     "output_type": "display_data"
    },
    {
     "data": {
      "application/vnd.jupyter.widget-view+json": {
       "model_id": "",
       "version_major": 2,
       "version_minor": 0
      },
      "text/plain": [
       "Re-downloading sub-10_ses-session3_task-music_run-5_events.tsv: file size mismatch.: 0.00B [00:00, ?B/s]"
      ]
     },
     "metadata": {},
     "output_type": "display_data"
    },
    {
     "data": {
      "application/vnd.jupyter.widget-view+json": {
       "model_id": "",
       "version_major": 2,
       "version_minor": 0
      },
      "text/plain": [
       "Re-downloading sub-10_ses-session1_task-mathematic_run-3_eeg.vhdr: file size mismatch.: 0.00B [00:00, ?B/s]"
      ]
     },
     "metadata": {},
     "output_type": "display_data"
    }
   ],
   "source": [
    "# Download one subject's data from each dataset\n",
    "openneuro.download(dataset=dataset, target_dir=bids_root,\n",
    "                   include=[f'sub-{subject}'])"
   ]
  },
  {
   "cell_type": "code",
   "execution_count": 110,
   "id": "e03158f0-0723-4fd4-8d1a-3d88f7aabbe1",
   "metadata": {},
   "outputs": [
    {
     "name": "stdout",
     "output_type": "stream",
     "text": [
      "Summarizing participants.tsv /Users/asgnxt/mne-miniconda/mne_data/ds003685/participants.tsv...\n",
      "The participant template found: comprised of 28 male and 32 female participants;\n",
      "handedness were all unknown;\n",
      "ages ranged from 18.0 to 28.0 (mean = 20.0, std = 1.89; 5 with unknown age)\n",
      " The A test-retest resting and cognitive state EEG dataset dataset was created\n",
      "by Yulin Wang, Wei Duan, Lihong Ding, Debo Dong, and Xu Lei and conforms to BIDS\n",
      "version 1.2. This report was generated with MNE-BIDS\n",
      "(https://doi.org/10.21105/joss.01896). The dataset consists of 2 participants\n",
      "(comprised of 28 male and 32 female participants; handedness were all unknown;\n",
      "ages ranged from 18.0 to 28.0 (mean = 20.0, std = 1.89; 5 with unknown age)) and\n",
      "3 recording sessions: session1, session2, and session3.\n"
     ]
    },
    {
     "name": "stderr",
     "output_type": "stream",
     "text": [
      "/var/folders/f6/xkyty3nj32785_c9xjmhv0p80000gn/T/ipykernel_20569/3390368180.py:1: RuntimeWarning: No *scans.tsv files found. Currently, we do not generate a report without the scans.tsv files.\n",
      "  print(make_report(bids_root))\n"
     ]
    },
    {
     "data": {
      "application/vnd.jupyter.widget-view+json": {
       "model_id": "",
       "version_major": 2,
       "version_minor": 0
      },
      "text/plain": [
       "Re-downloading sub-10_ses-session2_task-eyesclosed_run-1_eeg.eeg: file size mismatch.: 0.00B [00:00, ?B/s]"
      ]
     },
     "metadata": {},
     "output_type": "display_data"
    },
    {
     "data": {
      "application/vnd.jupyter.widget-view+json": {
       "model_id": "",
       "version_major": 2,
       "version_minor": 0
      },
      "text/plain": [
       "Re-downloading sub-10_ses-session2_task-eyesopen_run-2_eeg.vmrk: file size mismatch.: 0.00B [00:00, ?B/s]"
      ]
     },
     "metadata": {},
     "output_type": "display_data"
    },
    {
     "data": {
      "application/vnd.jupyter.widget-view+json": {
       "model_id": "",
       "version_major": 2,
       "version_minor": 0
      },
      "text/plain": [
       "Re-downloading sub-10_ses-session3_task-eyesopen_run-2_eeg.vmrk: file size mismatch.: 0.00B [00:00, ?B/s]"
      ]
     },
     "metadata": {},
     "output_type": "display_data"
    },
    {
     "data": {
      "application/vnd.jupyter.widget-view+json": {
       "model_id": "",
       "version_major": 2,
       "version_minor": 0
      },
      "text/plain": [
       "Re-downloading sub-10_ses-session2_task-music_run-5_eeg.vmrk: file size mismatch.: 0.00B [00:00, ?B/s]"
      ]
     },
     "metadata": {},
     "output_type": "display_data"
    },
    {
     "data": {
      "application/vnd.jupyter.widget-view+json": {
       "model_id": "",
       "version_major": 2,
       "version_minor": 0
      },
      "text/plain": [
       "Re-downloading sub-10_ses-session1_task-eyesclosed_run-1_events.tsv: file size mismatch.: 0.00B [00:00, ?B/s]"
      ]
     },
     "metadata": {},
     "output_type": "display_data"
    },
    {
     "data": {
      "application/vnd.jupyter.widget-view+json": {
       "model_id": "",
       "version_major": 2,
       "version_minor": 0
      },
      "text/plain": [
       "Re-downloading sub-10_ses-session1_task-mathematic_run-3_channels.tsv: file size mismatch.: 0.00B [00:00, ?B/s…"
      ]
     },
     "metadata": {},
     "output_type": "display_data"
    },
    {
     "data": {
      "application/vnd.jupyter.widget-view+json": {
       "model_id": "",
       "version_major": 2,
       "version_minor": 0
      },
      "text/plain": [
       "Re-downloading sub-10_ses-session3_task-eyesopen_run-2_events.tsv: file size mismatch.: 0.00B [00:00, ?B/s]"
      ]
     },
     "metadata": {},
     "output_type": "display_data"
    },
    {
     "data": {
      "application/vnd.jupyter.widget-view+json": {
       "model_id": "",
       "version_major": 2,
       "version_minor": 0
      },
      "text/plain": [
       "Re-downloading sub-10_ses-session3_task-music_run-5_channels.tsv: file size mismatch.: 0.00B [00:00, ?B/s]"
      ]
     },
     "metadata": {},
     "output_type": "display_data"
    },
    {
     "data": {
      "application/vnd.jupyter.widget-view+json": {
       "model_id": "",
       "version_major": 2,
       "version_minor": 0
      },
      "text/plain": [
       "Re-downloading sub-10_ses-session2_task-music_run-5_eeg.vhdr: file size mismatch.: 0.00B [00:00, ?B/s]"
      ]
     },
     "metadata": {},
     "output_type": "display_data"
    },
    {
     "data": {
      "application/vnd.jupyter.widget-view+json": {
       "model_id": "",
       "version_major": 2,
       "version_minor": 0
      },
      "text/plain": [
       "Re-downloading sub-10_ses-session2_task-mathematic_run-3_eeg.eeg: file size mismatch.: 0.00B [00:00, ?B/s]"
      ]
     },
     "metadata": {},
     "output_type": "display_data"
    },
    {
     "data": {
      "application/vnd.jupyter.widget-view+json": {
       "model_id": "",
       "version_major": 2,
       "version_minor": 0
      },
      "text/plain": [
       "Re-downloading sub-10_ses-session2_task-mathematic_run-3_eeg.json: file size mismatch.: 0.00B [00:00, ?B/s]"
      ]
     },
     "metadata": {},
     "output_type": "display_data"
    },
    {
     "data": {
      "application/vnd.jupyter.widget-view+json": {
       "model_id": "",
       "version_major": 2,
       "version_minor": 0
      },
      "text/plain": [
       "Re-downloading sub-10_ses-session1_task-mathematic_run-3_eeg.vmrk: file size mismatch.: 0.00B [00:00, ?B/s]"
      ]
     },
     "metadata": {},
     "output_type": "display_data"
    },
    {
     "data": {
      "application/vnd.jupyter.widget-view+json": {
       "model_id": "",
       "version_major": 2,
       "version_minor": 0
      },
      "text/plain": [
       "Re-downloading sub-10_ses-session3_task-mathematic_run-3_eeg.vhdr: file size mismatch.: 0.00B [00:00, ?B/s]"
      ]
     },
     "metadata": {},
     "output_type": "display_data"
    },
    {
     "data": {
      "application/vnd.jupyter.widget-view+json": {
       "model_id": "",
       "version_major": 2,
       "version_minor": 0
      },
      "text/plain": [
       "Re-downloading sub-10_ses-session1_task-music_run-5_eeg.vhdr: file size mismatch.: 0.00B [00:00, ?B/s]"
      ]
     },
     "metadata": {},
     "output_type": "display_data"
    },
    {
     "data": {
      "application/vnd.jupyter.widget-view+json": {
       "model_id": "",
       "version_major": 2,
       "version_minor": 0
      },
      "text/plain": [
       "Re-downloading sub-10_ses-session2_task-memory_run-4_channels.tsv: file size mismatch.: 0.00B [00:00, ?B/s]"
      ]
     },
     "metadata": {},
     "output_type": "display_data"
    },
    {
     "data": {
      "application/vnd.jupyter.widget-view+json": {
       "model_id": "",
       "version_major": 2,
       "version_minor": 0
      },
      "text/plain": [
       "Re-downloading sub-10_ses-session3_task-music_run-5_eeg.vhdr: file size mismatch.: 0.00B [00:00, ?B/s]"
      ]
     },
     "metadata": {},
     "output_type": "display_data"
    }
   ],
   "source": [
    "print(make_report(bids_root))"
   ]
  },
  {
   "cell_type": "code",
   "execution_count": 111,
   "id": "9e436db2-cf7c-4889-b155-771babfb8cdf",
   "metadata": {},
   "outputs": [
    {
     "name": "stdout",
     "output_type": "stream",
     "text": [
      "|ds003685/\n",
      "|--- CHANGES\n",
      "|--- README\n",
      "|--- dataset_description.json\n",
      "|--- participants.tsv\n",
      "|--- eeg/\n",
      "|--- sub-01/\n",
      "|------ ses-session1/\n",
      "|--------- eeg/\n",
      "|------------ sub-01_ses-session1_task-eyesclosed_run-1_channels.tsv\n",
      "|------------ sub-01_ses-session1_task-eyesclosed_run-1_eeg.eeg\n",
      "|------------ sub-01_ses-session1_task-eyesclosed_run-1_eeg.json\n",
      "|------------ sub-01_ses-session1_task-eyesclosed_run-1_eeg.vhdr\n",
      "|------------ sub-01_ses-session1_task-eyesclosed_run-1_eeg.vmrk\n",
      "|------------ sub-01_ses-session1_task-eyesclosed_run-1_events.tsv\n",
      "|------------ sub-01_ses-session1_task-eyesopen_run-2_channels.tsv\n",
      "|------------ sub-01_ses-session1_task-eyesopen_run-2_eeg.eeg\n",
      "|------------ sub-01_ses-session1_task-eyesopen_run-2_eeg.json\n",
      "|------------ sub-01_ses-session1_task-eyesopen_run-2_eeg.vhdr\n",
      "|------------ sub-01_ses-session1_task-eyesopen_run-2_eeg.vmrk\n",
      "|------------ sub-01_ses-session1_task-eyesopen_run-2_events.tsv\n",
      "|------------ sub-01_ses-session1_task-mathematic_run-3_channels.tsv\n",
      "|------------ sub-01_ses-session1_task-mathematic_run-3_eeg.eeg\n",
      "|------------ sub-01_ses-session1_task-mathematic_run-3_eeg.json\n",
      "|------------ sub-01_ses-session1_task-mathematic_run-3_eeg.vhdr\n",
      "|------------ sub-01_ses-session1_task-mathematic_run-3_eeg.vmrk\n",
      "|------------ sub-01_ses-session1_task-mathematic_run-3_events.tsv\n",
      "|------------ sub-01_ses-session1_task-memory_run-4_channels.tsv\n",
      "|------------ sub-01_ses-session1_task-memory_run-4_eeg.eeg\n",
      "|------------ sub-01_ses-session1_task-memory_run-4_eeg.json\n",
      "|------------ sub-01_ses-session1_task-memory_run-4_eeg.vhdr\n",
      "|------------ sub-01_ses-session1_task-memory_run-4_eeg.vmrk\n",
      "|------------ sub-01_ses-session1_task-memory_run-4_events.tsv\n",
      "|------------ sub-01_ses-session1_task-music_run-5_channels.tsv\n",
      "|------------ sub-01_ses-session1_task-music_run-5_eeg.eeg\n",
      "|------------ sub-01_ses-session1_task-music_run-5_eeg.json\n",
      "|------------ sub-01_ses-session1_task-music_run-5_eeg.vhdr\n",
      "|------------ sub-01_ses-session1_task-music_run-5_eeg.vmrk\n",
      "|------------ sub-01_ses-session1_task-music_run-5_events.tsv\n",
      "|------ ses-session2/\n",
      "|--------- eeg/\n",
      "|------------ sub-01_ses-session2_task-eyesclosed_run-1_channels.tsv\n",
      "|------------ sub-01_ses-session2_task-eyesclosed_run-1_eeg.eeg\n",
      "|------------ sub-01_ses-session2_task-eyesclosed_run-1_eeg.json\n",
      "|------------ sub-01_ses-session2_task-eyesclosed_run-1_eeg.vhdr\n",
      "|------------ sub-01_ses-session2_task-eyesclosed_run-1_eeg.vmrk\n",
      "|------------ sub-01_ses-session2_task-eyesclosed_run-1_events.tsv\n",
      "|------------ sub-01_ses-session2_task-eyesopen_run-2_channels.tsv\n",
      "|------------ sub-01_ses-session2_task-eyesopen_run-2_eeg.eeg\n",
      "|------------ sub-01_ses-session2_task-eyesopen_run-2_eeg.json\n",
      "|------------ sub-01_ses-session2_task-eyesopen_run-2_eeg.vhdr\n",
      "|------------ sub-01_ses-session2_task-eyesopen_run-2_eeg.vmrk\n",
      "|------------ sub-01_ses-session2_task-eyesopen_run-2_events.tsv\n",
      "|------------ sub-01_ses-session2_task-mathematic_run-3_channels.tsv\n",
      "|------------ sub-01_ses-session2_task-mathematic_run-3_eeg.eeg\n",
      "|------------ sub-01_ses-session2_task-mathematic_run-3_eeg.json\n",
      "|------------ sub-01_ses-session2_task-mathematic_run-3_eeg.vhdr\n",
      "|------------ sub-01_ses-session2_task-mathematic_run-3_eeg.vmrk\n",
      "|------------ sub-01_ses-session2_task-mathematic_run-3_events.tsv\n",
      "|------------ sub-01_ses-session2_task-memory_run-4_channels.tsv\n",
      "|------------ sub-01_ses-session2_task-memory_run-4_eeg.eeg\n",
      "|------------ sub-01_ses-session2_task-memory_run-4_eeg.json\n",
      "|------------ sub-01_ses-session2_task-memory_run-4_eeg.vhdr\n",
      "|------------ sub-01_ses-session2_task-memory_run-4_eeg.vmrk\n",
      "|------------ sub-01_ses-session2_task-memory_run-4_events.tsv\n",
      "|------------ sub-01_ses-session2_task-music_run-5_channels.tsv\n",
      "|------------ sub-01_ses-session2_task-music_run-5_eeg.eeg\n",
      "|------------ sub-01_ses-session2_task-music_run-5_eeg.json\n",
      "|------------ sub-01_ses-session2_task-music_run-5_eeg.vhdr\n",
      "|------------ sub-01_ses-session2_task-music_run-5_eeg.vmrk\n",
      "|------------ sub-01_ses-session2_task-music_run-5_events.tsv\n",
      "|------ ses-session3/\n",
      "|--------- eeg/\n",
      "|------------ sub-01_ses-session3_task-eyesclosed_run-1_channels.tsv\n",
      "|------------ sub-01_ses-session3_task-eyesclosed_run-1_eeg.eeg\n",
      "|------------ sub-01_ses-session3_task-eyesclosed_run-1_eeg.json\n",
      "|------------ sub-01_ses-session3_task-eyesclosed_run-1_eeg.vhdr\n",
      "|------------ sub-01_ses-session3_task-eyesclosed_run-1_eeg.vmrk\n",
      "|------------ sub-01_ses-session3_task-eyesclosed_run-1_events.tsv\n",
      "|------------ sub-01_ses-session3_task-eyesopen_run-2_channels.tsv\n",
      "|------------ sub-01_ses-session3_task-eyesopen_run-2_eeg.eeg\n",
      "|------------ sub-01_ses-session3_task-eyesopen_run-2_eeg.json\n",
      "|------------ sub-01_ses-session3_task-eyesopen_run-2_eeg.vhdr\n",
      "|------------ sub-01_ses-session3_task-eyesopen_run-2_eeg.vmrk\n",
      "|------------ sub-01_ses-session3_task-eyesopen_run-2_events.tsv\n",
      "|------------ sub-01_ses-session3_task-mathematic_run-3_channels.tsv\n",
      "|------------ sub-01_ses-session3_task-mathematic_run-3_eeg.eeg\n",
      "|------------ sub-01_ses-session3_task-mathematic_run-3_eeg.json\n",
      "|------------ sub-01_ses-session3_task-mathematic_run-3_eeg.vhdr\n",
      "|------------ sub-01_ses-session3_task-mathematic_run-3_eeg.vmrk\n",
      "|------------ sub-01_ses-session3_task-mathematic_run-3_events.tsv\n",
      "|------------ sub-01_ses-session3_task-memory_run-4_channels.tsv\n",
      "|------------ sub-01_ses-session3_task-memory_run-4_eeg.eeg\n",
      "|------------ sub-01_ses-session3_task-memory_run-4_eeg.json\n",
      "|------------ sub-01_ses-session3_task-memory_run-4_eeg.vhdr\n",
      "|------------ sub-01_ses-session3_task-memory_run-4_eeg.vmrk\n",
      "|------------ sub-01_ses-session3_task-memory_run-4_events.tsv\n",
      "|------------ sub-01_ses-session3_task-music_run-5_channels.tsv\n",
      "|------------ sub-01_ses-session3_task-music_run-5_eeg.eeg\n",
      "|------------ sub-01_ses-session3_task-music_run-5_eeg.json\n",
      "|------------ sub-01_ses-session3_task-music_run-5_eeg.vhdr\n",
      "|------------ sub-01_ses-session3_task-music_run-5_eeg.vmrk\n",
      "|------------ sub-01_ses-session3_task-music_run-5_events.tsv\n",
      "|--- sub-10/\n",
      "|------ ses-session1/\n",
      "|--------- eeg/\n",
      "|------------ sub-10_ses-session1_task-eyesclosed_run-1_channels.tsv\n",
      "|------------ sub-10_ses-session1_task-eyesclosed_run-1_eeg.eeg\n",
      "|------------ sub-10_ses-session1_task-eyesclosed_run-1_eeg.json\n",
      "|------------ sub-10_ses-session1_task-eyesclosed_run-1_eeg.vhdr\n",
      "|------------ sub-10_ses-session1_task-eyesclosed_run-1_eeg.vmrk\n",
      "|------------ sub-10_ses-session1_task-eyesclosed_run-1_events.tsv\n",
      "|------------ sub-10_ses-session1_task-eyesopen_run-2_channels.tsv\n",
      "|------------ sub-10_ses-session1_task-eyesopen_run-2_eeg.eeg\n",
      "|------------ sub-10_ses-session1_task-eyesopen_run-2_eeg.json\n",
      "|------------ sub-10_ses-session1_task-eyesopen_run-2_eeg.vhdr\n",
      "|------------ sub-10_ses-session1_task-eyesopen_run-2_eeg.vmrk\n",
      "|------------ sub-10_ses-session1_task-eyesopen_run-2_events.tsv\n",
      "|------------ sub-10_ses-session1_task-mathematic_run-3_channels.tsv\n",
      "|------------ sub-10_ses-session1_task-mathematic_run-3_eeg.eeg\n",
      "|------------ sub-10_ses-session1_task-mathematic_run-3_eeg.json\n",
      "|------------ sub-10_ses-session1_task-mathematic_run-3_eeg.vhdr\n",
      "|------------ sub-10_ses-session1_task-mathematic_run-3_eeg.vmrk\n",
      "|------------ sub-10_ses-session1_task-mathematic_run-3_events.tsv\n",
      "|------------ sub-10_ses-session1_task-memory_run-4_channels.tsv\n",
      "|------------ sub-10_ses-session1_task-memory_run-4_eeg.eeg\n",
      "|------------ sub-10_ses-session1_task-memory_run-4_eeg.json\n",
      "|------------ sub-10_ses-session1_task-memory_run-4_eeg.vhdr\n",
      "|------------ sub-10_ses-session1_task-memory_run-4_eeg.vmrk\n",
      "|------------ sub-10_ses-session1_task-memory_run-4_events.tsv\n",
      "|------------ sub-10_ses-session1_task-music_run-5_channels.tsv\n",
      "|------------ sub-10_ses-session1_task-music_run-5_eeg.eeg\n",
      "|------------ sub-10_ses-session1_task-music_run-5_eeg.json\n",
      "|------------ sub-10_ses-session1_task-music_run-5_eeg.vhdr\n",
      "|------------ sub-10_ses-session1_task-music_run-5_eeg.vmrk\n",
      "|------------ sub-10_ses-session1_task-music_run-5_events.tsv\n",
      "|------ ses-session2/\n",
      "|--------- eeg/\n",
      "|------------ sub-10_ses-session2_task-eyesclosed_run-1_channels.tsv\n",
      "|------------ sub-10_ses-session2_task-eyesclosed_run-1_eeg.eeg\n",
      "|------------ sub-10_ses-session2_task-eyesclosed_run-1_eeg.json\n",
      "|------------ sub-10_ses-session2_task-eyesclosed_run-1_eeg.vhdr\n",
      "|------------ sub-10_ses-session2_task-eyesclosed_run-1_eeg.vmrk\n",
      "|------------ sub-10_ses-session2_task-eyesclosed_run-1_events.tsv\n",
      "|------------ sub-10_ses-session2_task-eyesopen_run-2_channels.tsv\n",
      "|------------ sub-10_ses-session2_task-eyesopen_run-2_eeg.eeg\n",
      "|------------ sub-10_ses-session2_task-eyesopen_run-2_eeg.json\n",
      "|------------ sub-10_ses-session2_task-eyesopen_run-2_eeg.vhdr\n",
      "|------------ sub-10_ses-session2_task-eyesopen_run-2_eeg.vmrk\n",
      "|------------ sub-10_ses-session2_task-eyesopen_run-2_events.tsv\n",
      "|------------ sub-10_ses-session2_task-mathematic_run-3_channels.tsv\n",
      "|------------ sub-10_ses-session2_task-mathematic_run-3_eeg.eeg\n",
      "|------------ sub-10_ses-session2_task-mathematic_run-3_eeg.json\n",
      "|------------ sub-10_ses-session2_task-mathematic_run-3_eeg.vhdr\n",
      "|------------ sub-10_ses-session2_task-mathematic_run-3_eeg.vmrk\n",
      "|------------ sub-10_ses-session2_task-mathematic_run-3_events.tsv\n",
      "|------------ sub-10_ses-session2_task-memory_run-4_channels.tsv\n",
      "|------------ sub-10_ses-session2_task-memory_run-4_eeg.eeg\n",
      "|------------ sub-10_ses-session2_task-memory_run-4_eeg.json\n",
      "|------------ sub-10_ses-session2_task-memory_run-4_eeg.vhdr\n",
      "|------------ sub-10_ses-session2_task-memory_run-4_eeg.vmrk\n",
      "|------------ sub-10_ses-session2_task-memory_run-4_events.tsv\n",
      "|------------ sub-10_ses-session2_task-music_run-5_channels.tsv\n",
      "|------------ sub-10_ses-session2_task-music_run-5_eeg.eeg\n",
      "|------------ sub-10_ses-session2_task-music_run-5_eeg.json\n",
      "|------------ sub-10_ses-session2_task-music_run-5_eeg.vhdr\n",
      "|------------ sub-10_ses-session2_task-music_run-5_eeg.vmrk\n",
      "|------------ sub-10_ses-session2_task-music_run-5_events.tsv\n",
      "|------ ses-session3/\n",
      "|--------- eeg/\n",
      "|------------ sub-10_ses-session3_task-eyesclosed_run-1_channels.tsv\n",
      "|------------ sub-10_ses-session3_task-eyesclosed_run-1_eeg.eeg\n",
      "|------------ sub-10_ses-session3_task-eyesclosed_run-1_eeg.json\n",
      "|------------ sub-10_ses-session3_task-eyesclosed_run-1_eeg.vhdr\n",
      "|------------ sub-10_ses-session3_task-eyesclosed_run-1_eeg.vmrk\n",
      "|------------ sub-10_ses-session3_task-eyesclosed_run-1_events.tsv\n",
      "|------------ sub-10_ses-session3_task-eyesopen_run-2_channels.tsv\n",
      "|------------ sub-10_ses-session3_task-eyesopen_run-2_eeg.eeg\n",
      "|------------ sub-10_ses-session3_task-eyesopen_run-2_eeg.json\n",
      "|------------ sub-10_ses-session3_task-eyesopen_run-2_eeg.vhdr\n",
      "|------------ sub-10_ses-session3_task-eyesopen_run-2_eeg.vmrk\n",
      "|------------ sub-10_ses-session3_task-eyesopen_run-2_events.tsv\n",
      "|------------ sub-10_ses-session3_task-mathematic_run-3_channels.tsv\n",
      "|------------ sub-10_ses-session3_task-mathematic_run-3_eeg.eeg\n",
      "|------------ sub-10_ses-session3_task-mathematic_run-3_eeg.json\n",
      "|------------ sub-10_ses-session3_task-mathematic_run-3_eeg.vhdr\n",
      "|------------ sub-10_ses-session3_task-mathematic_run-3_eeg.vmrk\n",
      "|------------ sub-10_ses-session3_task-mathematic_run-3_events.tsv\n",
      "|------------ sub-10_ses-session3_task-memory_run-4_channels.tsv\n",
      "|------------ sub-10_ses-session3_task-memory_run-4_eeg.eeg\n",
      "|------------ sub-10_ses-session3_task-memory_run-4_eeg.json\n",
      "|------------ sub-10_ses-session3_task-memory_run-4_eeg.vhdr\n",
      "|------------ sub-10_ses-session3_task-memory_run-4_eeg.vmrk\n",
      "|------------ sub-10_ses-session3_task-memory_run-4_events.tsv\n",
      "|------------ sub-10_ses-session3_task-music_run-5_channels.tsv\n",
      "|------------ sub-10_ses-session3_task-music_run-5_eeg.eeg\n",
      "|------------ sub-10_ses-session3_task-music_run-5_eeg.json\n",
      "|------------ sub-10_ses-session3_task-music_run-5_eeg.vhdr\n",
      "|------------ sub-10_ses-session3_task-music_run-5_eeg.vmrk\n",
      "|------------ sub-10_ses-session3_task-music_run-5_events.tsv\n"
     ]
    }
   ],
   "source": [
    "print_dir_tree(bids_root, max_depth=4)"
   ]
  },
  {
   "cell_type": "code",
   "execution_count": 120,
   "id": "80715df8-65db-4fd1-9148-25d4db9273f6",
   "metadata": {},
   "outputs": [],
   "source": [
    "subject = '10'\n",
    "datatype = 'eeg'\n",
    "session = 'session1' # change to session2, session3 after done with first one\n",
    "task = 'music' # change when finished\n",
    "suffix = 'eeg'\n",
    "bids_path = BIDSPath(subject=subject,task=task,\n",
    "                     suffix=suffix, datatype=datatype, root=bids_root)"
   ]
  },
  {
   "cell_type": "code",
   "execution_count": 121,
   "id": "d6f37bc5-c72d-4c0c-957b-5fa2ba7f35d2",
   "metadata": {},
   "outputs": [
    {
     "name": "stdout",
     "output_type": "stream",
     "text": [
      "[BIDSPath(\n",
      "root: /Users/asgnxt/mne-miniconda/mne_data/ds003685\n",
      "datatype: eeg\n",
      "basename: sub-10_ses-session1_task-music_run-5_eeg.eeg), BIDSPath(\n",
      "root: /Users/asgnxt/mne-miniconda/mne_data/ds003685\n",
      "datatype: eeg\n",
      "basename: sub-10_ses-session1_task-music_run-5_eeg.vhdr), BIDSPath(\n",
      "root: /Users/asgnxt/mne-miniconda/mne_data/ds003685\n",
      "datatype: eeg\n",
      "basename: sub-10_ses-session1_task-music_run-5_eeg.vmrk), BIDSPath(\n",
      "root: /Users/asgnxt/mne-miniconda/mne_data/ds003685\n",
      "datatype: eeg\n",
      "basename: sub-10_ses-session2_task-music_run-5_eeg.eeg), BIDSPath(\n",
      "root: /Users/asgnxt/mne-miniconda/mne_data/ds003685\n",
      "datatype: eeg\n",
      "basename: sub-10_ses-session2_task-music_run-5_eeg.vhdr), BIDSPath(\n",
      "root: /Users/asgnxt/mne-miniconda/mne_data/ds003685\n",
      "datatype: eeg\n",
      "basename: sub-10_ses-session2_task-music_run-5_eeg.vmrk), BIDSPath(\n",
      "root: /Users/asgnxt/mne-miniconda/mne_data/ds003685\n",
      "datatype: eeg\n",
      "basename: sub-10_ses-session3_task-music_run-5_eeg.eeg), BIDSPath(\n",
      "root: /Users/asgnxt/mne-miniconda/mne_data/ds003685\n",
      "datatype: eeg\n",
      "basename: sub-10_ses-session3_task-music_run-5_eeg.vhdr), BIDSPath(\n",
      "root: /Users/asgnxt/mne-miniconda/mne_data/ds003685\n",
      "datatype: eeg\n",
      "basename: sub-10_ses-session3_task-music_run-5_eeg.vmrk)]\n"
     ]
    }
   ],
   "source": [
    "print(bids_path.match())"
   ]
  },
  {
   "cell_type": "code",
   "execution_count": 122,
   "id": "9981e3ee-eef6-4b23-8707-174010c8572c",
   "metadata": {},
   "outputs": [
    {
     "name": "stdout",
     "output_type": "stream",
     "text": [
      "/Users/asgnxt/mne-miniconda/mne_data/ds003685/sub-10/eeg/sub-10_task-music_eeg\n"
     ]
    }
   ],
   "source": [
    "print(bids_path)"
   ]
  },
  {
   "cell_type": "markdown",
   "id": "336dd7c3-339d-4255-a0b9-2034f6ce117e",
   "metadata": {},
   "source": [
    "### Read in the raw data"
   ]
  },
  {
   "cell_type": "code",
   "execution_count": 123,
   "id": "79f2459f-3dc5-4144-984d-6a769d1b0cf2",
   "metadata": {},
   "outputs": [
    {
     "name": "stderr",
     "output_type": "stream",
     "text": [
      "100%|█████████████████████████████████████████████████████████████████| 8/8 [00:00<00:00, 165.42it/s]\n"
     ]
    }
   ],
   "source": [
    "# get names of the .vhdr files\n",
    "basenames = []\n",
    "for i in tqdm(range(0, 8)):\n",
    "    if bids_path.match()[i].basename[-4:] == 'vhdr':\n",
    "        basenames.append(bids_path.match()[i])"
   ]
  },
  {
   "cell_type": "code",
   "execution_count": 124,
   "id": "5bf75945-94a4-43d1-9269-2e9e2a78246f",
   "metadata": {},
   "outputs": [
    {
     "name": "stderr",
     "output_type": "stream",
     "text": [
      "  0%|                                                                          | 0/3 [00:00<?, ?it/s]"
     ]
    },
    {
     "name": "stdout",
     "output_type": "stream",
     "text": [
      "Reading 0 ... 149999  =      0.000 ...   299.998 secs...\n",
      "Filtering raw data in 1 contiguous segment\n",
      "Setting up band-pass filter from 1 - 40 Hz\n",
      "\n",
      "FIR filter parameters\n",
      "---------------------\n",
      "Designing a one-pass, zero-phase, non-causal bandpass filter:\n",
      "- Windowed time-domain design (firwin) method\n",
      "- Hamming window with 0.0194 passband ripple and 53 dB stopband attenuation\n",
      "- Lower passband edge: 1.00\n",
      "- Lower transition bandwidth: 1.00 Hz (-6 dB cutoff frequency: 0.50 Hz)\n",
      "- Upper passband edge: 40.00 Hz\n",
      "- Upper transition bandwidth: 10.00 Hz (-6 dB cutoff frequency: 45.00 Hz)\n",
      "- Filter length: 1651 samples (3.302 sec)\n",
      "\n"
     ]
    },
    {
     "name": "stderr",
     "output_type": "stream",
     "text": [
      " 33%|██████████████████████                                            | 1/3 [00:00<00:00,  2.06it/s]"
     ]
    },
    {
     "name": "stdout",
     "output_type": "stream",
     "text": [
      "Reading 0 ... 26977  =      0.000 ...    53.954 secs...\n",
      "Filtering raw data in 1 contiguous segment\n",
      "Setting up band-pass filter from 1 - 40 Hz\n",
      "\n",
      "FIR filter parameters\n",
      "---------------------\n",
      "Designing a one-pass, zero-phase, non-causal bandpass filter:\n",
      "- Windowed time-domain design (firwin) method\n",
      "- Hamming window with 0.0194 passband ripple and 53 dB stopband attenuation\n",
      "- Lower passband edge: 1.00\n",
      "- Lower transition bandwidth: 1.00 Hz (-6 dB cutoff frequency: 0.50 Hz)\n",
      "- Upper passband edge: 40.00 Hz\n",
      "- Upper transition bandwidth: 10.00 Hz (-6 dB cutoff frequency: 45.00 Hz)\n",
      "- Filter length: 1651 samples (3.302 sec)\n",
      "\n",
      "Reading 0 ... 149999  =      0.000 ...   299.998 secs...\n",
      "Filtering raw data in 1 contiguous segment\n",
      "Setting up band-pass filter from 1 - 40 Hz\n",
      "\n",
      "FIR filter parameters\n",
      "---------------------\n",
      "Designing a one-pass, zero-phase, non-causal bandpass filter:\n",
      "- Windowed time-domain design (firwin) method\n",
      "- Hamming window with 0.0194 passband ripple and 53 dB stopband attenuation\n",
      "- Lower passband edge: 1.00\n",
      "- Lower transition bandwidth: 1.00 Hz (-6 dB cutoff frequency: 0.50 Hz)\n",
      "- Upper passband edge: 40.00 Hz\n",
      "- Upper transition bandwidth: 10.00 Hz (-6 dB cutoff frequency: 45.00 Hz)\n",
      "- Filter length: 1651 samples (3.302 sec)\n",
      "\n"
     ]
    },
    {
     "name": "stderr",
     "output_type": "stream",
     "text": [
      "100%|██████████████████████████████████████████████████████████████████| 3/3 [00:00<00:00,  3.01it/s]\n"
     ]
    }
   ],
   "source": [
    "# iterate through all files and create preprocessed dataframes\n",
    "df = pd.DataFrame()\n",
    "for basename in tqdm(basenames):\n",
    "    raw = read_raw_bids(bids_path=basename, verbose=False)\n",
    "    raw.load_data()\n",
    "    raw = raw.filter(1,40)\n",
    "    raw = raw.resample(100, npad=\"auto\") \n",
    "    raw_data = raw.get_data()\n",
    "    df1 = pd.DataFrame(raw_data)\n",
    "    df = pd.concat([df, df1], sort=True)"
   ]
  },
  {
   "cell_type": "code",
   "execution_count": 125,
   "id": "3baa5a67-0de6-456d-a915-bbebd81af349",
   "metadata": {},
   "outputs": [
    {
     "name": "stdout",
     "output_type": "stream",
     "text": [
      "100.0\n"
     ]
    }
   ],
   "source": [
    "print(raw.info['sfreq'])"
   ]
  },
  {
   "cell_type": "code",
   "execution_count": 126,
   "id": "e84a7d8f-6ec7-45ec-8e3e-80f60ddc8456",
   "metadata": {},
   "outputs": [
    {
     "data": {
      "text/plain": [
       "'sub-10_task-music_eeg'"
      ]
     },
     "execution_count": 126,
     "metadata": {},
     "output_type": "execute_result"
    }
   ],
   "source": [
    "bids_path.basename"
   ]
  },
  {
   "cell_type": "code",
   "execution_count": 127,
   "id": "aa45b999-1c86-49ba-81b2-c8bcf7370596",
   "metadata": {},
   "outputs": [
    {
     "data": {
      "text/plain": [
       "[BIDSPath(\n",
       " root: /Users/asgnxt/mne-miniconda/mne_data/ds003685\n",
       " datatype: eeg\n",
       " basename: sub-10_ses-session1_task-music_run-5_eeg.vhdr),\n",
       " BIDSPath(\n",
       " root: /Users/asgnxt/mne-miniconda/mne_data/ds003685\n",
       " datatype: eeg\n",
       " basename: sub-10_ses-session2_task-music_run-5_eeg.vhdr),\n",
       " BIDSPath(\n",
       " root: /Users/asgnxt/mne-miniconda/mne_data/ds003685\n",
       " datatype: eeg\n",
       " basename: sub-10_ses-session3_task-music_run-5_eeg.vhdr)]"
      ]
     },
     "execution_count": 127,
     "metadata": {},
     "output_type": "execute_result"
    }
   ],
   "source": [
    "basenames"
   ]
  },
  {
   "cell_type": "code",
   "execution_count": 128,
   "id": "eab9a054-24e3-4f4b-a3d0-3f7ff4391393",
   "metadata": {},
   "outputs": [
    {
     "data": {
      "text/plain": [
       "(183, 30000)"
      ]
     },
     "execution_count": 128,
     "metadata": {},
     "output_type": "execute_result"
    }
   ],
   "source": [
    "df.shape"
   ]
  },
  {
   "cell_type": "code",
   "execution_count": 44,
   "id": "a0ffa9da-159b-4f95-8dfd-52f8078ed2bd",
   "metadata": {},
   "outputs": [],
   "source": [
    "df_ses1 = df.iloc[0:61, :]"
   ]
  },
  {
   "cell_type": "code",
   "execution_count": 129,
   "id": "ea3adad9-54a4-40f0-8c83-343ee842f127",
   "metadata": {},
   "outputs": [
    {
     "name": "stdout",
     "output_type": "stream",
     "text": [
      "<Info | 9 non-empty values\n",
      " bads: []\n",
      " ch_names: Fp1, AF3, AF7, Fz, F1, F3, F5, F7, FC1, FC3, FC5, FT7, Cz, C1, ...\n",
      " chs: 61 EEG\n",
      " custom_ref_applied: False\n",
      " highpass: 1.0 Hz\n",
      " line_freq: 50.0\n",
      " lowpass: 40.0 Hz\n",
      " meas_date: unspecified\n",
      " nchan: 61\n",
      " projs: []\n",
      " sfreq: 100.0 Hz\n",
      " subject_info: 242 items (dict)\n",
      ">\n"
     ]
    }
   ],
   "source": [
    "print(raw.info)"
   ]
  },
  {
   "cell_type": "code",
   "execution_count": 130,
   "id": "f7309502-8870-4385-9556-0f08ee8b4cb7",
   "metadata": {},
   "outputs": [
    {
     "name": "stdout",
     "output_type": "stream",
     "text": [
      "Opening raw-browser...\n",
      "Using pyopengl with version 3.1.6\n",
      "Closing raw-browser...\n",
      "Channels marked as bad:\n",
      "none\n"
     ]
    },
    {
     "data": {
      "text/plain": [
       "<mne_qt_browser._pg_figure.PyQtGraphBrowser at 0x2c1efcee0>"
      ]
     },
     "execution_count": 130,
     "metadata": {},
     "output_type": "execute_result"
    }
   ],
   "source": [
    "raw.plot(block=True)"
   ]
  },
  {
   "cell_type": "code",
   "execution_count": 131,
   "id": "d1e9b851-85d7-4b92-8728-725ff4c5cb12",
   "metadata": {},
   "outputs": [
    {
     "data": {
      "text/plain": [
       "(61, 30000)"
      ]
     },
     "execution_count": 131,
     "metadata": {},
     "output_type": "execute_result"
    }
   ],
   "source": [
    "df_ses1.shape"
   ]
  },
  {
   "cell_type": "code",
   "execution_count": 134,
   "id": "5b7fa161-5dab-450f-96b4-aa2c5560d097",
   "metadata": {},
   "outputs": [],
   "source": [
    "import pyarrow.feather as feather"
   ]
  },
  {
   "cell_type": "code",
   "execution_count": 136,
   "id": "36f48110-10da-41d7-8526-5bb3afecbc5c",
   "metadata": {},
   "outputs": [],
   "source": [
    "# save dataframe as a feather file to import into R\n",
    "feather.write_feather(df_ses1, 'sub10_ses1_music.feather')"
   ]
  },
  {
   "cell_type": "code",
   "execution_count": null,
   "id": "bb7b3d37-bf82-4ea4-9022-859553d2c4aa",
   "metadata": {},
   "outputs": [],
   "source": []
  }
 ],
 "metadata": {
  "kernelspec": {
   "display_name": "Python 3.9.10 ('mne')",
   "language": "python",
   "name": "python3910jvsc74a57bd02b1d6308bfd9635885be6fe48711a065abef7f3c76b9233baaccfdc468997ac7"
  },
  "language_info": {
   "codemirror_mode": {
    "name": "ipython",
    "version": 3
   },
   "file_extension": ".py",
   "mimetype": "text/x-python",
   "name": "python",
   "nbconvert_exporter": "python",
   "pygments_lexer": "ipython3",
   "version": "3.9.10"
  }
 },
 "nbformat": 4,
 "nbformat_minor": 5
}
