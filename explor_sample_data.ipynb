{
 "cells": [
  {
   "cell_type": "code",
   "execution_count": 4,
   "id": "312f6de6-0c60-4104-bd5e-0ce23f2611c9",
   "metadata": {},
   "outputs": [],
   "source": [
    "import pyarrow.feather as feather\n",
    "import matplotlib.pyplot as plt\n",
    "import pandas as pd"
   ]
  },
  {
   "cell_type": "code",
   "execution_count": 6,
   "id": "69aafc53-480f-4489-9b65-dd8bcd42fb70",
   "metadata": {},
   "outputs": [],
   "source": [
    "path = 'sample_data/sample_eyesclosed.feather'\n",
    "df_closed = feather.read_feather(path)"
   ]
  },
  {
   "cell_type": "code",
   "execution_count": 7,
   "id": "8cc9d888-8cdd-4c49-9288-0ddd72b3b942",
   "metadata": {},
   "outputs": [
    {
     "data": {
      "text/html": [
       "<div>\n",
       "<style scoped>\n",
       "    .dataframe tbody tr th:only-of-type {\n",
       "        vertical-align: middle;\n",
       "    }\n",
       "\n",
       "    .dataframe tbody tr th {\n",
       "        vertical-align: top;\n",
       "    }\n",
       "\n",
       "    .dataframe thead th {\n",
       "        text-align: right;\n",
       "    }\n",
       "</style>\n",
       "<table border=\"1\" class=\"dataframe\">\n",
       "  <thead>\n",
       "    <tr style=\"text-align: right;\">\n",
       "      <th></th>\n",
       "      <th>2173</th>\n",
       "      <th>2174</th>\n",
       "      <th>2175</th>\n",
       "      <th>2176</th>\n",
       "      <th>2177</th>\n",
       "      <th>2178</th>\n",
       "      <th>2179</th>\n",
       "      <th>2180</th>\n",
       "      <th>2181</th>\n",
       "      <th>2182</th>\n",
       "      <th>...</th>\n",
       "      <th>7</th>\n",
       "      <th>8</th>\n",
       "      <th>9</th>\n",
       "      <th>0</th>\n",
       "      <th>1</th>\n",
       "      <th>2</th>\n",
       "      <th>3</th>\n",
       "      <th>2995</th>\n",
       "      <th>2996</th>\n",
       "      <th>2997</th>\n",
       "    </tr>\n",
       "  </thead>\n",
       "  <tbody>\n",
       "    <tr>\n",
       "      <th>0</th>\n",
       "      <td>0.000010</td>\n",
       "      <td>0.000007</td>\n",
       "      <td>3.608776e-06</td>\n",
       "      <td>0.000005</td>\n",
       "      <td>6.915026e-06</td>\n",
       "      <td>3.880076e-06</td>\n",
       "      <td>3.389280e-06</td>\n",
       "      <td>0.000008</td>\n",
       "      <td>0.000005</td>\n",
       "      <td>0.000001</td>\n",
       "      <td>...</td>\n",
       "      <td>NaN</td>\n",
       "      <td>NaN</td>\n",
       "      <td>NaN</td>\n",
       "      <td>NaN</td>\n",
       "      <td>NaN</td>\n",
       "      <td>NaN</td>\n",
       "      <td>NaN</td>\n",
       "      <td>NaN</td>\n",
       "      <td>NaN</td>\n",
       "      <td>NaN</td>\n",
       "    </tr>\n",
       "    <tr>\n",
       "      <th>1</th>\n",
       "      <td>NaN</td>\n",
       "      <td>NaN</td>\n",
       "      <td>NaN</td>\n",
       "      <td>NaN</td>\n",
       "      <td>NaN</td>\n",
       "      <td>NaN</td>\n",
       "      <td>NaN</td>\n",
       "      <td>NaN</td>\n",
       "      <td>NaN</td>\n",
       "      <td>NaN</td>\n",
       "      <td>...</td>\n",
       "      <td>NaN</td>\n",
       "      <td>NaN</td>\n",
       "      <td>NaN</td>\n",
       "      <td>NaN</td>\n",
       "      <td>NaN</td>\n",
       "      <td>NaN</td>\n",
       "      <td>NaN</td>\n",
       "      <td>NaN</td>\n",
       "      <td>NaN</td>\n",
       "      <td>NaN</td>\n",
       "    </tr>\n",
       "    <tr>\n",
       "      <th>2</th>\n",
       "      <td>0.000007</td>\n",
       "      <td>0.000004</td>\n",
       "      <td>-2.392352e-06</td>\n",
       "      <td>-0.000002</td>\n",
       "      <td>6.757822e-07</td>\n",
       "      <td>-4.752771e-06</td>\n",
       "      <td>2.082077e-07</td>\n",
       "      <td>0.000003</td>\n",
       "      <td>0.000001</td>\n",
       "      <td>0.000005</td>\n",
       "      <td>...</td>\n",
       "      <td>NaN</td>\n",
       "      <td>NaN</td>\n",
       "      <td>NaN</td>\n",
       "      <td>NaN</td>\n",
       "      <td>NaN</td>\n",
       "      <td>NaN</td>\n",
       "      <td>NaN</td>\n",
       "      <td>NaN</td>\n",
       "      <td>NaN</td>\n",
       "      <td>NaN</td>\n",
       "    </tr>\n",
       "    <tr>\n",
       "      <th>3</th>\n",
       "      <td>NaN</td>\n",
       "      <td>NaN</td>\n",
       "      <td>NaN</td>\n",
       "      <td>NaN</td>\n",
       "      <td>NaN</td>\n",
       "      <td>NaN</td>\n",
       "      <td>NaN</td>\n",
       "      <td>NaN</td>\n",
       "      <td>NaN</td>\n",
       "      <td>NaN</td>\n",
       "      <td>...</td>\n",
       "      <td>NaN</td>\n",
       "      <td>NaN</td>\n",
       "      <td>NaN</td>\n",
       "      <td>NaN</td>\n",
       "      <td>NaN</td>\n",
       "      <td>NaN</td>\n",
       "      <td>NaN</td>\n",
       "      <td>NaN</td>\n",
       "      <td>NaN</td>\n",
       "      <td>NaN</td>\n",
       "    </tr>\n",
       "    <tr>\n",
       "      <th>4</th>\n",
       "      <td>NaN</td>\n",
       "      <td>NaN</td>\n",
       "      <td>NaN</td>\n",
       "      <td>NaN</td>\n",
       "      <td>NaN</td>\n",
       "      <td>NaN</td>\n",
       "      <td>NaN</td>\n",
       "      <td>NaN</td>\n",
       "      <td>NaN</td>\n",
       "      <td>NaN</td>\n",
       "      <td>...</td>\n",
       "      <td>NaN</td>\n",
       "      <td>NaN</td>\n",
       "      <td>NaN</td>\n",
       "      <td>NaN</td>\n",
       "      <td>NaN</td>\n",
       "      <td>NaN</td>\n",
       "      <td>NaN</td>\n",
       "      <td>NaN</td>\n",
       "      <td>NaN</td>\n",
       "      <td>NaN</td>\n",
       "    </tr>\n",
       "    <tr>\n",
       "      <th>5</th>\n",
       "      <td>NaN</td>\n",
       "      <td>NaN</td>\n",
       "      <td>NaN</td>\n",
       "      <td>NaN</td>\n",
       "      <td>NaN</td>\n",
       "      <td>NaN</td>\n",
       "      <td>NaN</td>\n",
       "      <td>NaN</td>\n",
       "      <td>NaN</td>\n",
       "      <td>NaN</td>\n",
       "      <td>...</td>\n",
       "      <td>NaN</td>\n",
       "      <td>NaN</td>\n",
       "      <td>NaN</td>\n",
       "      <td>NaN</td>\n",
       "      <td>NaN</td>\n",
       "      <td>NaN</td>\n",
       "      <td>NaN</td>\n",
       "      <td>NaN</td>\n",
       "      <td>NaN</td>\n",
       "      <td>NaN</td>\n",
       "    </tr>\n",
       "    <tr>\n",
       "      <th>6</th>\n",
       "      <td>0.000004</td>\n",
       "      <td>0.000005</td>\n",
       "      <td>2.887946e-07</td>\n",
       "      <td>-0.000002</td>\n",
       "      <td>3.578109e-06</td>\n",
       "      <td>8.310146e-07</td>\n",
       "      <td>4.675162e-06</td>\n",
       "      <td>0.000010</td>\n",
       "      <td>0.000007</td>\n",
       "      <td>0.000007</td>\n",
       "      <td>...</td>\n",
       "      <td>NaN</td>\n",
       "      <td>NaN</td>\n",
       "      <td>NaN</td>\n",
       "      <td>NaN</td>\n",
       "      <td>NaN</td>\n",
       "      <td>NaN</td>\n",
       "      <td>NaN</td>\n",
       "      <td>NaN</td>\n",
       "      <td>NaN</td>\n",
       "      <td>NaN</td>\n",
       "    </tr>\n",
       "    <tr>\n",
       "      <th>7</th>\n",
       "      <td>NaN</td>\n",
       "      <td>NaN</td>\n",
       "      <td>NaN</td>\n",
       "      <td>NaN</td>\n",
       "      <td>NaN</td>\n",
       "      <td>NaN</td>\n",
       "      <td>NaN</td>\n",
       "      <td>NaN</td>\n",
       "      <td>NaN</td>\n",
       "      <td>NaN</td>\n",
       "      <td>...</td>\n",
       "      <td>NaN</td>\n",
       "      <td>NaN</td>\n",
       "      <td>NaN</td>\n",
       "      <td>NaN</td>\n",
       "      <td>NaN</td>\n",
       "      <td>NaN</td>\n",
       "      <td>NaN</td>\n",
       "      <td>NaN</td>\n",
       "      <td>NaN</td>\n",
       "      <td>NaN</td>\n",
       "    </tr>\n",
       "    <tr>\n",
       "      <th>8</th>\n",
       "      <td>NaN</td>\n",
       "      <td>NaN</td>\n",
       "      <td>NaN</td>\n",
       "      <td>NaN</td>\n",
       "      <td>NaN</td>\n",
       "      <td>NaN</td>\n",
       "      <td>NaN</td>\n",
       "      <td>NaN</td>\n",
       "      <td>NaN</td>\n",
       "      <td>NaN</td>\n",
       "      <td>...</td>\n",
       "      <td>NaN</td>\n",
       "      <td>NaN</td>\n",
       "      <td>NaN</td>\n",
       "      <td>NaN</td>\n",
       "      <td>NaN</td>\n",
       "      <td>NaN</td>\n",
       "      <td>NaN</td>\n",
       "      <td>NaN</td>\n",
       "      <td>NaN</td>\n",
       "      <td>NaN</td>\n",
       "    </tr>\n",
       "    <tr>\n",
       "      <th>9</th>\n",
       "      <td>NaN</td>\n",
       "      <td>NaN</td>\n",
       "      <td>NaN</td>\n",
       "      <td>NaN</td>\n",
       "      <td>NaN</td>\n",
       "      <td>NaN</td>\n",
       "      <td>NaN</td>\n",
       "      <td>NaN</td>\n",
       "      <td>NaN</td>\n",
       "      <td>NaN</td>\n",
       "      <td>...</td>\n",
       "      <td>NaN</td>\n",
       "      <td>NaN</td>\n",
       "      <td>NaN</td>\n",
       "      <td>NaN</td>\n",
       "      <td>NaN</td>\n",
       "      <td>NaN</td>\n",
       "      <td>NaN</td>\n",
       "      <td>NaN</td>\n",
       "      <td>NaN</td>\n",
       "      <td>NaN</td>\n",
       "    </tr>\n",
       "  </tbody>\n",
       "</table>\n",
       "<p>10 rows × 2998 columns</p>\n",
       "</div>"
      ],
      "text/plain": [
       "       2173      2174          2175      2176          2177          2178  \\\n",
       "0  0.000010  0.000007  3.608776e-06  0.000005  6.915026e-06  3.880076e-06   \n",
       "1       NaN       NaN           NaN       NaN           NaN           NaN   \n",
       "2  0.000007  0.000004 -2.392352e-06 -0.000002  6.757822e-07 -4.752771e-06   \n",
       "3       NaN       NaN           NaN       NaN           NaN           NaN   \n",
       "4       NaN       NaN           NaN       NaN           NaN           NaN   \n",
       "5       NaN       NaN           NaN       NaN           NaN           NaN   \n",
       "6  0.000004  0.000005  2.887946e-07 -0.000002  3.578109e-06  8.310146e-07   \n",
       "7       NaN       NaN           NaN       NaN           NaN           NaN   \n",
       "8       NaN       NaN           NaN       NaN           NaN           NaN   \n",
       "9       NaN       NaN           NaN       NaN           NaN           NaN   \n",
       "\n",
       "           2179      2180      2181      2182  ...   7   8   9   0   1   2  \\\n",
       "0  3.389280e-06  0.000008  0.000005  0.000001  ... NaN NaN NaN NaN NaN NaN   \n",
       "1           NaN       NaN       NaN       NaN  ... NaN NaN NaN NaN NaN NaN   \n",
       "2  2.082077e-07  0.000003  0.000001  0.000005  ... NaN NaN NaN NaN NaN NaN   \n",
       "3           NaN       NaN       NaN       NaN  ... NaN NaN NaN NaN NaN NaN   \n",
       "4           NaN       NaN       NaN       NaN  ... NaN NaN NaN NaN NaN NaN   \n",
       "5           NaN       NaN       NaN       NaN  ... NaN NaN NaN NaN NaN NaN   \n",
       "6  4.675162e-06  0.000010  0.000007  0.000007  ... NaN NaN NaN NaN NaN NaN   \n",
       "7           NaN       NaN       NaN       NaN  ... NaN NaN NaN NaN NaN NaN   \n",
       "8           NaN       NaN       NaN       NaN  ... NaN NaN NaN NaN NaN NaN   \n",
       "9           NaN       NaN       NaN       NaN  ... NaN NaN NaN NaN NaN NaN   \n",
       "\n",
       "    3  2995  2996  2997  \n",
       "0 NaN   NaN   NaN   NaN  \n",
       "1 NaN   NaN   NaN   NaN  \n",
       "2 NaN   NaN   NaN   NaN  \n",
       "3 NaN   NaN   NaN   NaN  \n",
       "4 NaN   NaN   NaN   NaN  \n",
       "5 NaN   NaN   NaN   NaN  \n",
       "6 NaN   NaN   NaN   NaN  \n",
       "7 NaN   NaN   NaN   NaN  \n",
       "8 NaN   NaN   NaN   NaN  \n",
       "9 NaN   NaN   NaN   NaN  \n",
       "\n",
       "[10 rows x 2998 columns]"
      ]
     },
     "execution_count": 7,
     "metadata": {},
     "output_type": "execute_result"
    }
   ],
   "source": [
    "df_closed.head(10)"
   ]
  },
  {
   "cell_type": "code",
   "execution_count": 8,
   "id": "3d45a5ce-2c37-4862-a4ef-6ae12d13d372",
   "metadata": {},
   "outputs": [
    {
     "data": {
      "text/plain": [
       "[<matplotlib.lines.Line2D at 0x12f2228e0>]"
      ]
     },
     "execution_count": 8,
     "metadata": {},
     "output_type": "execute_result"
    },
    {
     "data": {
      "image/png": "[encoded data removed]",
      "text/plain": [
       "<Figure size 432x288 with 1 Axes>"
      ]
     },
     "metadata": {
      "needs_background": "light"
     },
     "output_type": "display_data"
    }
   ],
   "source": [
    "row_number = 0\n",
    "plt.plot(df_closed.iloc[row_number,])"
   ]
  },
  {
   "cell_type": "code",
   "execution_count": 12,
   "id": "60e6b42e-7d64-4aa3-99ca-6846f9769072",
   "metadata": {},
   "outputs": [
    {
     "data": {
      "text/plain": [
       "(2910, 2998)"
      ]
     },
     "execution_count": 12,
     "metadata": {},
     "output_type": "execute_result"
    }
   ],
   "source": [
    "df_closed.shape"
   ]
  },
  {
   "cell_type": "code",
   "execution_count": 29,
   "id": "b5d2cd95-cad9-4c8e-8749-ae9fd91121c5",
   "metadata": {},
   "outputs": [],
   "source": [
    "path = 'sample_data/sample_eyesopen.feather'\n",
    "df_open = feather.read_feather(path)"
   ]
  },
  {
   "cell_type": "code",
   "execution_count": 30,
   "id": "b1a26a4c-eb1d-46ce-ba23-86161d355212",
   "metadata": {},
   "outputs": [
    {
     "data": {
      "text/plain": [
       "(2910, 2997)"
      ]
     },
     "execution_count": 30,
     "metadata": {},
     "output_type": "execute_result"
    }
   ],
   "source": [
    "df_open.shape"
   ]
  },
  {
   "cell_type": "code",
   "execution_count": 32,
   "id": "bdf93176-2971-4a9e-96ac-c96ea63cf996",
   "metadata": {},
   "outputs": [
    {
     "data": {
      "text/plain": [
       "[<matplotlib.lines.Line2D at 0x14a948d90>]"
      ]
     },
     "execution_count": 32,
     "metadata": {},
     "output_type": "execute_result"
    },
    {
     "data": {
      "image/png": "[encoded data removed]",
      "text/plain": [
       "<Figure size 432x288 with 1 Axes>"
      ]
     },
     "metadata": {
      "needs_background": "light"
     },
     "output_type": "display_data"
    }
   ],
   "source": [
    "row_number = 2000\n",
    "plt.plot(df_open.iloc[row_number,])"
   ]
  },
  {
   "cell_type": "code",
   "execution_count": 33,
   "id": "bf81a97d-3e97-4b7b-b4ca-820d52d0a104",
   "metadata": {},
   "outputs": [],
   "source": [
    "path = 'sample_data/sample_mathematic.feather'\n",
    "df_math = feather.read_feather(path)"
   ]
  },
  {
   "cell_type": "code",
   "execution_count": 34,
   "id": "4cfa23ba-78fa-4c39-8773-1bf6500eb071",
   "metadata": {},
   "outputs": [
    {
     "data": {
      "text/plain": [
       "(2971, 2999)"
      ]
     },
     "execution_count": 34,
     "metadata": {},
     "output_type": "execute_result"
    }
   ],
   "source": [
    "df_math.shape"
   ]
  },
  {
   "cell_type": "code",
   "execution_count": 35,
   "id": "a4ff7b4d-e3be-4dd4-b3e9-05f89bf971a8",
   "metadata": {},
   "outputs": [
    {
     "data": {
      "text/plain": [
       "[<matplotlib.lines.Line2D at 0x287cd3ac0>]"
      ]
     },
     "execution_count": 35,
     "metadata": {},
     "output_type": "execute_result"
    },
    {
     "data": {
      "image/png": "[encoded data removed]",
      "text/plain": [
       "<Figure size 432x288 with 1 Axes>"
      ]
     },
     "metadata": {
      "needs_background": "light"
     },
     "output_type": "display_data"
    }
   ],
   "source": [
    "row_number = 1500\n",
    "plt.plot(df_math.iloc[row_number,])"
   ]
  },
  {
   "cell_type": "code",
   "execution_count": 36,
   "id": "de98285c-a8c1-4573-906c-ffb747b967af",
   "metadata": {},
   "outputs": [],
   "source": [
    "path = 'sample_data/sample_memory.feather'\n",
    "df_memory = feather.read_feather(path)"
   ]
  },
  {
   "cell_type": "code",
   "execution_count": 38,
   "id": "72a6d09b-755b-4c1b-95fa-b4c195696eda",
   "metadata": {},
   "outputs": [
    {
     "data": {
      "text/plain": [
       "[<matplotlib.lines.Line2D at 0x2910748b0>]"
      ]
     },
     "execution_count": 38,
     "metadata": {},
     "output_type": "execute_result"
    },
    {
     "data": {
      "image/png": "[encoded data removed]",
      "text/plain": [
       "<Figure size 432x288 with 1 Axes>"
      ]
     },
     "metadata": {
      "needs_background": "light"
     },
     "output_type": "display_data"
    }
   ],
   "source": [
    "row_number = 15\n",
    "plt.plot(df_memory.iloc[row_number,])"
   ]
  },
  {
   "cell_type": "code",
   "execution_count": 39,
   "id": "1f9934e4-cf71-4452-8331-087fb20ebe9c",
   "metadata": {},
   "outputs": [],
   "source": [
    "path = 'sample_data/sample_music.feather'\n",
    "df_music = feather.read_feather(path)"
   ]
  },
  {
   "cell_type": "code",
   "execution_count": 41,
   "id": "acb8546b-e888-4b34-b2b3-4bd0da301b02",
   "metadata": {},
   "outputs": [
    {
     "data": {
      "text/plain": [
       "[<matplotlib.lines.Line2D at 0x29a2a3f70>]"
      ]
     },
     "execution_count": 41,
     "metadata": {},
     "output_type": "execute_result"
    },
    {
     "data": {
      "image/png": "[encoded data removed]",
      "text/plain": [
       "<Figure size 432x288 with 1 Axes>"
      ]
     },
     "metadata": {
      "needs_background": "light"
     },
     "output_type": "display_data"
    }
   ],
   "source": [
    "row_number = 1\n",
    "plt.plot(df_music.iloc[row_number,])"
   ]
  },
  {
   "cell_type": "code",
   "execution_count": null,
   "id": "2b8beab5-2ff3-4f10-873a-9436e8e466da",
   "metadata": {},
   "outputs": [],
   "source": []
  }
 ],
 "metadata": {
  "kernelspec": {
   "display_name": "Python 3.9.10 ('mne')",
   "language": "python",
   "name": "python3910jvsc74a57bd02b1d6308bfd9635885be6fe48711a065abef7f3c76b9233baaccfdc468997ac7"
  },
  "language_info": {
   "codemirror_mode": {
    "name": "ipython",
    "version": 3
   },
   "file_extension": ".py",
   "mimetype": "text/x-python",
   "name": "python",
   "nbconvert_exporter": "python",
   "pygments_lexer": "ipython3",
   "version": "3.9.10"
  }
 },
 "nbformat": 4,
 "nbformat_minor": 5
}
